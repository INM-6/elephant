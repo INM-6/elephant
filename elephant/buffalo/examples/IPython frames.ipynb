{
 "cells": [
  {
   "cell_type": "code",
   "execution_count": 33,
   "metadata": {},
   "outputs": [],
   "source": [
    "import numpy as np\n",
    "import neo\n",
    "import inspect"
   ]
  },
  {
   "cell_type": "code",
   "execution_count": 5,
   "metadata": {},
   "outputs": [
    {
     "data": {
      "text/html": [
       "\n",
       "    <div class=\"bk-root\">\n",
       "        <a href=\"https://bokeh.org\" target=\"_blank\" class=\"bk-logo bk-logo-small bk-logo-notebook\"></a>\n",
       "        <span id=\"1569\">Loading BokehJS ...</span>\n",
       "    </div>"
      ]
     },
     "metadata": {},
     "output_type": "display_data"
    },
    {
     "data": {
      "application/javascript": [
       "\n",
       "(function(root) {\n",
       "  function now() {\n",
       "    return new Date();\n",
       "  }\n",
       "\n",
       "  var force = true;\n",
       "\n",
       "  if (typeof root._bokeh_onload_callbacks === \"undefined\" || force === true) {\n",
       "    root._bokeh_onload_callbacks = [];\n",
       "    root._bokeh_is_loading = undefined;\n",
       "  }\n",
       "\n",
       "  var JS_MIME_TYPE = 'application/javascript';\n",
       "  var HTML_MIME_TYPE = 'text/html';\n",
       "  var EXEC_MIME_TYPE = 'application/vnd.bokehjs_exec.v0+json';\n",
       "  var CLASS_NAME = 'output_bokeh rendered_html';\n",
       "\n",
       "  /**\n",
       "   * Render data to the DOM node\n",
       "   */\n",
       "  function render(props, node) {\n",
       "    var script = document.createElement(\"script\");\n",
       "    node.appendChild(script);\n",
       "  }\n",
       "\n",
       "  /**\n",
       "   * Handle when an output is cleared or removed\n",
       "   */\n",
       "  function handleClearOutput(event, handle) {\n",
       "    var cell = handle.cell;\n",
       "\n",
       "    var id = cell.output_area._bokeh_element_id;\n",
       "    var server_id = cell.output_area._bokeh_server_id;\n",
       "    // Clean up Bokeh references\n",
       "    if (id != null && id in Bokeh.index) {\n",
       "      Bokeh.index[id].model.document.clear();\n",
       "      delete Bokeh.index[id];\n",
       "    }\n",
       "\n",
       "    if (server_id !== undefined) {\n",
       "      // Clean up Bokeh references\n",
       "      var cmd = \"from bokeh.io.state import curstate; print(curstate().uuid_to_server['\" + server_id + \"'].get_sessions()[0].document.roots[0]._id)\";\n",
       "      cell.notebook.kernel.execute(cmd, {\n",
       "        iopub: {\n",
       "          output: function(msg) {\n",
       "            var id = msg.content.text.trim();\n",
       "            if (id in Bokeh.index) {\n",
       "              Bokeh.index[id].model.document.clear();\n",
       "              delete Bokeh.index[id];\n",
       "            }\n",
       "          }\n",
       "        }\n",
       "      });\n",
       "      // Destroy server and session\n",
       "      var cmd = \"import bokeh.io.notebook as ion; ion.destroy_server('\" + server_id + \"')\";\n",
       "      cell.notebook.kernel.execute(cmd);\n",
       "    }\n",
       "  }\n",
       "\n",
       "  /**\n",
       "   * Handle when a new output is added\n",
       "   */\n",
       "  function handleAddOutput(event, handle) {\n",
       "    var output_area = handle.output_area;\n",
       "    var output = handle.output;\n",
       "\n",
       "    // limit handleAddOutput to display_data with EXEC_MIME_TYPE content only\n",
       "    if ((output.output_type != \"display_data\") || (!output.data.hasOwnProperty(EXEC_MIME_TYPE))) {\n",
       "      return\n",
       "    }\n",
       "\n",
       "    var toinsert = output_area.element.find(\".\" + CLASS_NAME.split(' ')[0]);\n",
       "\n",
       "    if (output.metadata[EXEC_MIME_TYPE][\"id\"] !== undefined) {\n",
       "      toinsert[toinsert.length - 1].firstChild.textContent = output.data[JS_MIME_TYPE];\n",
       "      // store reference to embed id on output_area\n",
       "      output_area._bokeh_element_id = output.metadata[EXEC_MIME_TYPE][\"id\"];\n",
       "    }\n",
       "    if (output.metadata[EXEC_MIME_TYPE][\"server_id\"] !== undefined) {\n",
       "      var bk_div = document.createElement(\"div\");\n",
       "      bk_div.innerHTML = output.data[HTML_MIME_TYPE];\n",
       "      var script_attrs = bk_div.children[0].attributes;\n",
       "      for (var i = 0; i < script_attrs.length; i++) {\n",
       "        toinsert[toinsert.length - 1].firstChild.setAttribute(script_attrs[i].name, script_attrs[i].value);\n",
       "      }\n",
       "      // store reference to server id on output_area\n",
       "      output_area._bokeh_server_id = output.metadata[EXEC_MIME_TYPE][\"server_id\"];\n",
       "    }\n",
       "  }\n",
       "\n",
       "  function register_renderer(events, OutputArea) {\n",
       "\n",
       "    function append_mime(data, metadata, element) {\n",
       "      // create a DOM node to render to\n",
       "      var toinsert = this.create_output_subarea(\n",
       "        metadata,\n",
       "        CLASS_NAME,\n",
       "        EXEC_MIME_TYPE\n",
       "      );\n",
       "      this.keyboard_manager.register_events(toinsert);\n",
       "      // Render to node\n",
       "      var props = {data: data, metadata: metadata[EXEC_MIME_TYPE]};\n",
       "      render(props, toinsert[toinsert.length - 1]);\n",
       "      element.append(toinsert);\n",
       "      return toinsert\n",
       "    }\n",
       "\n",
       "    /* Handle when an output is cleared or removed */\n",
       "    events.on('clear_output.CodeCell', handleClearOutput);\n",
       "    events.on('delete.Cell', handleClearOutput);\n",
       "\n",
       "    /* Handle when a new output is added */\n",
       "    events.on('output_added.OutputArea', handleAddOutput);\n",
       "\n",
       "    /**\n",
       "     * Register the mime type and append_mime function with output_area\n",
       "     */\n",
       "    OutputArea.prototype.register_mime_type(EXEC_MIME_TYPE, append_mime, {\n",
       "      /* Is output safe? */\n",
       "      safe: true,\n",
       "      /* Index of renderer in `output_area.display_order` */\n",
       "      index: 0\n",
       "    });\n",
       "  }\n",
       "\n",
       "  // register the mime type if in Jupyter Notebook environment and previously unregistered\n",
       "  if (root.Jupyter !== undefined) {\n",
       "    var events = require('base/js/events');\n",
       "    var OutputArea = require('notebook/js/outputarea').OutputArea;\n",
       "\n",
       "    if (OutputArea.prototype.mime_types().indexOf(EXEC_MIME_TYPE) == -1) {\n",
       "      register_renderer(events, OutputArea);\n",
       "    }\n",
       "  }\n",
       "\n",
       "  \n",
       "  if (typeof (root._bokeh_timeout) === \"undefined\" || force === true) {\n",
       "    root._bokeh_timeout = Date.now() + 5000;\n",
       "    root._bokeh_failed_load = false;\n",
       "  }\n",
       "\n",
       "  var NB_LOAD_WARNING = {'data': {'text/html':\n",
       "     \"<div style='background-color: #fdd'>\\n\"+\n",
       "     \"<p>\\n\"+\n",
       "     \"BokehJS does not appear to have successfully loaded. If loading BokehJS from CDN, this \\n\"+\n",
       "     \"may be due to a slow or bad network connection. Possible fixes:\\n\"+\n",
       "     \"</p>\\n\"+\n",
       "     \"<ul>\\n\"+\n",
       "     \"<li>re-rerun `output_notebook()` to attempt to load from CDN again, or</li>\\n\"+\n",
       "     \"<li>use INLINE resources instead, as so:</li>\\n\"+\n",
       "     \"</ul>\\n\"+\n",
       "     \"<code>\\n\"+\n",
       "     \"from bokeh.resources import INLINE\\n\"+\n",
       "     \"output_notebook(resources=INLINE)\\n\"+\n",
       "     \"</code>\\n\"+\n",
       "     \"</div>\"}};\n",
       "\n",
       "  function display_loaded() {\n",
       "    var el = document.getElementById(\"1569\");\n",
       "    if (el != null) {\n",
       "      el.textContent = \"BokehJS is loading...\";\n",
       "    }\n",
       "    if (root.Bokeh !== undefined) {\n",
       "      if (el != null) {\n",
       "        el.textContent = \"BokehJS \" + root.Bokeh.version + \" successfully loaded.\";\n",
       "      }\n",
       "    } else if (Date.now() < root._bokeh_timeout) {\n",
       "      setTimeout(display_loaded, 100)\n",
       "    }\n",
       "  }\n",
       "\n",
       "\n",
       "  function run_callbacks() {\n",
       "    try {\n",
       "      root._bokeh_onload_callbacks.forEach(function(callback) {\n",
       "        if (callback != null)\n",
       "          callback();\n",
       "      });\n",
       "    } finally {\n",
       "      delete root._bokeh_onload_callbacks\n",
       "    }\n",
       "    console.debug(\"Bokeh: all callbacks have finished\");\n",
       "  }\n",
       "\n",
       "  function load_libs(css_urls, js_urls, callback) {\n",
       "    if (css_urls == null) css_urls = [];\n",
       "    if (js_urls == null) js_urls = [];\n",
       "\n",
       "    root._bokeh_onload_callbacks.push(callback);\n",
       "    if (root._bokeh_is_loading > 0) {\n",
       "      console.debug(\"Bokeh: BokehJS is being loaded, scheduling callback at\", now());\n",
       "      return null;\n",
       "    }\n",
       "    if (js_urls == null || js_urls.length === 0) {\n",
       "      run_callbacks();\n",
       "      return null;\n",
       "    }\n",
       "    console.debug(\"Bokeh: BokehJS not loaded, scheduling load and callback at\", now());\n",
       "    root._bokeh_is_loading = css_urls.length + js_urls.length;\n",
       "\n",
       "    function on_load() {\n",
       "      root._bokeh_is_loading--;\n",
       "      if (root._bokeh_is_loading === 0) {\n",
       "        console.debug(\"Bokeh: all BokehJS libraries/stylesheets loaded\");\n",
       "        run_callbacks()\n",
       "      }\n",
       "    }\n",
       "\n",
       "    function on_error() {\n",
       "      console.error(\"failed to load \" + url);\n",
       "    }\n",
       "\n",
       "    for (var i = 0; i < css_urls.length; i++) {\n",
       "      var url = css_urls[i];\n",
       "      const element = document.createElement(\"link\");\n",
       "      element.onload = on_load;\n",
       "      element.onerror = on_error;\n",
       "      element.rel = \"stylesheet\";\n",
       "      element.type = \"text/css\";\n",
       "      element.href = url;\n",
       "      console.debug(\"Bokeh: injecting link tag for BokehJS stylesheet: \", url);\n",
       "      document.body.appendChild(element);\n",
       "    }\n",
       "\n",
       "    for (var i = 0; i < js_urls.length; i++) {\n",
       "      var url = js_urls[i];\n",
       "      var element = document.createElement('script');\n",
       "      element.onload = on_load;\n",
       "      element.onerror = on_error;\n",
       "      element.async = false;\n",
       "      element.src = url;\n",
       "      console.debug(\"Bokeh: injecting script tag for BokehJS library: \", url);\n",
       "      document.head.appendChild(element);\n",
       "    }\n",
       "  };var element = document.getElementById(\"1569\");\n",
       "  if (element == null) {\n",
       "    console.error(\"Bokeh: ERROR: autoload.js configured with elementid '1569' but no matching script tag was found. \")\n",
       "    return false;\n",
       "  }\n",
       "\n",
       "  function inject_raw_css(css) {\n",
       "    const element = document.createElement(\"style\");\n",
       "    element.appendChild(document.createTextNode(css));\n",
       "    document.body.appendChild(element);\n",
       "  }\n",
       "\n",
       "  \n",
       "  var js_urls = [\"https://cdn.pydata.org/bokeh/release/bokeh-1.4.0.min.js\", \"https://cdn.pydata.org/bokeh/release/bokeh-widgets-1.4.0.min.js\", \"https://cdn.pydata.org/bokeh/release/bokeh-tables-1.4.0.min.js\", \"https://cdn.pydata.org/bokeh/release/bokeh-gl-1.4.0.min.js\"];\n",
       "  var css_urls = [];\n",
       "  \n",
       "\n",
       "  var inline_js = [\n",
       "    function(Bokeh) {\n",
       "      Bokeh.set_log_level(\"info\");\n",
       "    },\n",
       "    function(Bokeh) {\n",
       "    \n",
       "    \n",
       "    }\n",
       "  ];\n",
       "\n",
       "  function run_inline_js() {\n",
       "    \n",
       "    if (root.Bokeh !== undefined || force === true) {\n",
       "      \n",
       "    for (var i = 0; i < inline_js.length; i++) {\n",
       "      inline_js[i].call(root, root.Bokeh);\n",
       "    }\n",
       "    if (force === true) {\n",
       "        display_loaded();\n",
       "      }} else if (Date.now() < root._bokeh_timeout) {\n",
       "      setTimeout(run_inline_js, 100);\n",
       "    } else if (!root._bokeh_failed_load) {\n",
       "      console.log(\"Bokeh: BokehJS failed to load within specified timeout.\");\n",
       "      root._bokeh_failed_load = true;\n",
       "    } else if (force !== true) {\n",
       "      var cell = $(document.getElementById(\"1569\")).parents('.cell').data().cell;\n",
       "      cell.output_area.append_execute_result(NB_LOAD_WARNING)\n",
       "    }\n",
       "\n",
       "  }\n",
       "\n",
       "  if (root._bokeh_is_loading === 0) {\n",
       "    console.debug(\"Bokeh: BokehJS loaded, going straight to plotting\");\n",
       "    run_inline_js();\n",
       "  } else {\n",
       "    load_libs(css_urls, js_urls, function() {\n",
       "      console.debug(\"Bokeh: BokehJS plotting callback run at\", now());\n",
       "      run_inline_js();\n",
       "    });\n",
       "  }\n",
       "}(window));"
      ],
      "application/vnd.bokehjs_load.v0+json": "\n(function(root) {\n  function now() {\n    return new Date();\n  }\n\n  var force = true;\n\n  if (typeof root._bokeh_onload_callbacks === \"undefined\" || force === true) {\n    root._bokeh_onload_callbacks = [];\n    root._bokeh_is_loading = undefined;\n  }\n\n  \n\n  \n  if (typeof (root._bokeh_timeout) === \"undefined\" || force === true) {\n    root._bokeh_timeout = Date.now() + 5000;\n    root._bokeh_failed_load = false;\n  }\n\n  var NB_LOAD_WARNING = {'data': {'text/html':\n     \"<div style='background-color: #fdd'>\\n\"+\n     \"<p>\\n\"+\n     \"BokehJS does not appear to have successfully loaded. If loading BokehJS from CDN, this \\n\"+\n     \"may be due to a slow or bad network connection. Possible fixes:\\n\"+\n     \"</p>\\n\"+\n     \"<ul>\\n\"+\n     \"<li>re-rerun `output_notebook()` to attempt to load from CDN again, or</li>\\n\"+\n     \"<li>use INLINE resources instead, as so:</li>\\n\"+\n     \"</ul>\\n\"+\n     \"<code>\\n\"+\n     \"from bokeh.resources import INLINE\\n\"+\n     \"output_notebook(resources=INLINE)\\n\"+\n     \"</code>\\n\"+\n     \"</div>\"}};\n\n  function display_loaded() {\n    var el = document.getElementById(\"1569\");\n    if (el != null) {\n      el.textContent = \"BokehJS is loading...\";\n    }\n    if (root.Bokeh !== undefined) {\n      if (el != null) {\n        el.textContent = \"BokehJS \" + root.Bokeh.version + \" successfully loaded.\";\n      }\n    } else if (Date.now() < root._bokeh_timeout) {\n      setTimeout(display_loaded, 100)\n    }\n  }\n\n\n  function run_callbacks() {\n    try {\n      root._bokeh_onload_callbacks.forEach(function(callback) {\n        if (callback != null)\n          callback();\n      });\n    } finally {\n      delete root._bokeh_onload_callbacks\n    }\n    console.debug(\"Bokeh: all callbacks have finished\");\n  }\n\n  function load_libs(css_urls, js_urls, callback) {\n    if (css_urls == null) css_urls = [];\n    if (js_urls == null) js_urls = [];\n\n    root._bokeh_onload_callbacks.push(callback);\n    if (root._bokeh_is_loading > 0) {\n      console.debug(\"Bokeh: BokehJS is being loaded, scheduling callback at\", now());\n      return null;\n    }\n    if (js_urls == null || js_urls.length === 0) {\n      run_callbacks();\n      return null;\n    }\n    console.debug(\"Bokeh: BokehJS not loaded, scheduling load and callback at\", now());\n    root._bokeh_is_loading = css_urls.length + js_urls.length;\n\n    function on_load() {\n      root._bokeh_is_loading--;\n      if (root._bokeh_is_loading === 0) {\n        console.debug(\"Bokeh: all BokehJS libraries/stylesheets loaded\");\n        run_callbacks()\n      }\n    }\n\n    function on_error() {\n      console.error(\"failed to load \" + url);\n    }\n\n    for (var i = 0; i < css_urls.length; i++) {\n      var url = css_urls[i];\n      const element = document.createElement(\"link\");\n      element.onload = on_load;\n      element.onerror = on_error;\n      element.rel = \"stylesheet\";\n      element.type = \"text/css\";\n      element.href = url;\n      console.debug(\"Bokeh: injecting link tag for BokehJS stylesheet: \", url);\n      document.body.appendChild(element);\n    }\n\n    for (var i = 0; i < js_urls.length; i++) {\n      var url = js_urls[i];\n      var element = document.createElement('script');\n      element.onload = on_load;\n      element.onerror = on_error;\n      element.async = false;\n      element.src = url;\n      console.debug(\"Bokeh: injecting script tag for BokehJS library: \", url);\n      document.head.appendChild(element);\n    }\n  };var element = document.getElementById(\"1569\");\n  if (element == null) {\n    console.error(\"Bokeh: ERROR: autoload.js configured with elementid '1569' but no matching script tag was found. \")\n    return false;\n  }\n\n  function inject_raw_css(css) {\n    const element = document.createElement(\"style\");\n    element.appendChild(document.createTextNode(css));\n    document.body.appendChild(element);\n  }\n\n  \n  var js_urls = [\"https://cdn.pydata.org/bokeh/release/bokeh-1.4.0.min.js\", \"https://cdn.pydata.org/bokeh/release/bokeh-widgets-1.4.0.min.js\", \"https://cdn.pydata.org/bokeh/release/bokeh-tables-1.4.0.min.js\", \"https://cdn.pydata.org/bokeh/release/bokeh-gl-1.4.0.min.js\"];\n  var css_urls = [];\n  \n\n  var inline_js = [\n    function(Bokeh) {\n      Bokeh.set_log_level(\"info\");\n    },\n    function(Bokeh) {\n    \n    \n    }\n  ];\n\n  function run_inline_js() {\n    \n    if (root.Bokeh !== undefined || force === true) {\n      \n    for (var i = 0; i < inline_js.length; i++) {\n      inline_js[i].call(root, root.Bokeh);\n    }\n    if (force === true) {\n        display_loaded();\n      }} else if (Date.now() < root._bokeh_timeout) {\n      setTimeout(run_inline_js, 100);\n    } else if (!root._bokeh_failed_load) {\n      console.log(\"Bokeh: BokehJS failed to load within specified timeout.\");\n      root._bokeh_failed_load = true;\n    } else if (force !== true) {\n      var cell = $(document.getElementById(\"1569\")).parents('.cell').data().cell;\n      cell.output_area.append_execute_result(NB_LOAD_WARNING)\n    }\n\n  }\n\n  if (root._bokeh_is_loading === 0) {\n    console.debug(\"Bokeh: BokehJS loaded, going straight to plotting\");\n    run_inline_js();\n  } else {\n    load_libs(css_urls, js_urls, function() {\n      console.debug(\"Bokeh: BokehJS plotting callback run at\", now());\n      run_inline_js();\n    });\n  }\n}(window));"
     },
     "metadata": {},
     "output_type": "display_data"
    },
    {
     "data": {
      "text/html": [
       "\n",
       "\n",
       "\n",
       "\n",
       "\n",
       "\n",
       "  <div class=\"bk-root\" id=\"e90627cb-9b6c-401c-84e8-2a0b3091e57b\" data-root-id=\"1437\"></div>\n"
      ]
     },
     "metadata": {},
     "output_type": "display_data"
    },
    {
     "data": {
      "application/javascript": [
       "(function(root) {\n",
       "  function embed_document(root) {\n",
       "    \n",
       "  var docs_json = {\"83f6932b-01d5-44f2-b096-a6fa4e3eb6cb\":{\"roots\":{\"references\":[{\"attributes\":{\"plot_height\":400,\"plot_width\":400,\"renderers\":[{\"id\":\"1481\",\"type\":\"GraphRenderer\"}],\"title\":{\"id\":\"1440\",\"type\":\"Title\"},\"toolbar\":{\"id\":\"1444\",\"type\":\"Toolbar\"},\"x_range\":{\"id\":\"1435\",\"type\":\"Range1d\"},\"x_scale\":{\"id\":\"1475\",\"type\":\"LinearScale\"},\"y_range\":{\"id\":\"1436\",\"type\":\"Range1d\"},\"y_scale\":{\"id\":\"1476\",\"type\":\"LinearScale\"}},\"id\":\"1437\",\"type\":\"Plot\"},{\"attributes\":{\"text\":\"Graph Interaction Demonstration\"},\"id\":\"1440\",\"type\":\"Title\"},{\"attributes\":{\"callback\":null,\"tooltips\":null},\"id\":\"1441\",\"type\":\"HoverTool\"},{\"attributes\":{\"callback\":null,\"overlay\":{\"id\":\"1478\",\"type\":\"BoxAnnotation\"}},\"id\":\"1443\",\"type\":\"BoxSelectTool\"},{\"attributes\":{},\"id\":\"1475\",\"type\":\"LinearScale\"},{\"attributes\":{},\"id\":\"1521\",\"type\":\"NodesAndLinkedEdges\"},{\"attributes\":{\"data_source\":{\"id\":\"1483\",\"type\":\"ColumnDataSource\"},\"glyph\":{\"id\":\"1491\",\"type\":\"Circle\"},\"hover_glyph\":{\"id\":\"1501\",\"type\":\"Circle\"},\"muted_glyph\":null,\"selection_glyph\":{\"id\":\"1496\",\"type\":\"Circle\"},\"view\":{\"id\":\"1485\",\"type\":\"CDSView\"}},\"id\":\"1484\",\"type\":\"GlyphRenderer\"},{\"attributes\":{},\"id\":\"1567\",\"type\":\"Selection\"},{\"attributes\":{\"bottom_units\":\"screen\",\"fill_alpha\":{\"value\":0.5},\"fill_color\":{\"value\":\"lightgrey\"},\"left_units\":\"screen\",\"level\":\"overlay\",\"line_alpha\":{\"value\":1.0},\"line_color\":{\"value\":\"black\"},\"line_dash\":[4,4],\"line_width\":{\"value\":2},\"render_mode\":\"css\",\"right_units\":\"screen\",\"top_units\":\"screen\"},\"id\":\"1478\",\"type\":\"BoxAnnotation\"},{\"attributes\":{\"fill_color\":{\"value\":\"#CCCCCC\"},\"size\":{\"units\":\"screen\",\"value\":15}},\"id\":\"1496\",\"type\":\"Circle\"},{\"attributes\":{},\"id\":\"1568\",\"type\":\"UnionRenderers\"},{\"attributes\":{\"callback\":null,\"end\":1.1,\"start\":-1.1},\"id\":\"1435\",\"type\":\"Range1d\"},{\"attributes\":{\"edge_renderer\":{\"id\":\"1488\",\"type\":\"GlyphRenderer\"},\"inspection_policy\":{\"id\":\"1523\",\"type\":\"EdgesAndLinkedNodes\"},\"layout_provider\":{\"id\":\"1490\",\"type\":\"StaticLayoutProvider\"},\"node_renderer\":{\"id\":\"1484\",\"type\":\"GlyphRenderer\"},\"selection_policy\":{\"id\":\"1521\",\"type\":\"NodesAndLinkedEdges\"}},\"id\":\"1481\",\"type\":\"GraphRenderer\"},{\"attributes\":{\"fill_color\":{\"value\":\"#CCCCCC\"},\"size\":{\"units\":\"screen\",\"value\":15}},\"id\":\"1501\",\"type\":\"Circle\"},{\"attributes\":{},\"id\":\"1476\",\"type\":\"LinearScale\"},{\"attributes\":{\"callback\":null},\"id\":\"1442\",\"type\":\"TapTool\"},{\"attributes\":{\"line_alpha\":{\"value\":0.8},\"line_color\":{\"value\":\"#CCCCCC\"},\"line_width\":{\"value\":5}},\"id\":\"1506\",\"type\":\"MultiLine\"},{\"attributes\":{},\"id\":\"1523\",\"type\":\"EdgesAndLinkedNodes\"},{\"attributes\":{\"line_color\":{\"value\":\"#CCCCCC\"},\"line_width\":{\"value\":5}},\"id\":\"1511\",\"type\":\"MultiLine\"},{\"attributes\":{\"callback\":null,\"data\":{\"club\":[\"Mr. Hi\",\"Mr. Hi\",\"Mr. Hi\",\"Mr. Hi\",\"Mr. Hi\",\"Mr. Hi\",\"Mr. Hi\",\"Mr. Hi\",\"Mr. Hi\",\"Officer\",\"Mr. Hi\",\"Mr. Hi\",\"Mr. Hi\",\"Mr. Hi\",\"Officer\",\"Officer\",\"Mr. Hi\",\"Mr. Hi\",\"Officer\",\"Mr. Hi\",\"Officer\",\"Mr. Hi\",\"Officer\",\"Officer\",\"Officer\",\"Officer\",\"Officer\",\"Officer\",\"Officer\",\"Officer\",\"Officer\",\"Officer\",\"Officer\",\"Officer\"],\"index\":[0,1,2,3,4,5,6,7,8,9,10,11,12,13,14,15,16,17,18,19,20,21,22,23,24,25,26,27,28,29,30,31,32,33]},\"selected\":{\"id\":\"1567\",\"type\":\"Selection\"},\"selection_policy\":{\"id\":\"1568\",\"type\":\"UnionRenderers\"}},\"id\":\"1483\",\"type\":\"ColumnDataSource\"},{\"attributes\":{\"callback\":null,\"end\":1.1,\"start\":-1.1},\"id\":\"1436\",\"type\":\"Range1d\"},{\"attributes\":{\"line_color\":{\"value\":\"#CCCCCC\"},\"line_width\":{\"value\":5}},\"id\":\"1516\",\"type\":\"MultiLine\"},{\"attributes\":{\"active_drag\":\"auto\",\"active_inspect\":\"auto\",\"active_multi\":null,\"active_scroll\":\"auto\",\"active_tap\":\"auto\",\"tools\":[{\"id\":\"1441\",\"type\":\"HoverTool\"},{\"id\":\"1442\",\"type\":\"TapTool\"},{\"id\":\"1443\",\"type\":\"BoxSelectTool\"}]},\"id\":\"1444\",\"type\":\"Toolbar\"},{\"attributes\":{\"fill_color\":{\"value\":\"#CCCCCC\"},\"size\":{\"units\":\"screen\",\"value\":15}},\"id\":\"1491\",\"type\":\"Circle\"},{\"attributes\":{\"source\":{\"id\":\"1483\",\"type\":\"ColumnDataSource\"}},\"id\":\"1485\",\"type\":\"CDSView\"},{\"attributes\":{\"data_source\":{\"id\":\"1487\",\"type\":\"ColumnDataSource\"},\"glyph\":{\"id\":\"1506\",\"type\":\"MultiLine\"},\"hover_glyph\":{\"id\":\"1516\",\"type\":\"MultiLine\"},\"muted_glyph\":null,\"selection_glyph\":{\"id\":\"1511\",\"type\":\"MultiLine\"},\"view\":{\"id\":\"1489\",\"type\":\"CDSView\"}},\"id\":\"1488\",\"type\":\"GlyphRenderer\"},{\"attributes\":{\"callback\":null,\"data\":{\"end\":[1,2,3,4,5,6,7,8,10,11,12,13,17,19,21,31,2,3,7,13,17,19,21,30,3,7,8,9,13,27,28,32,7,12,13,6,10,6,10,16,16,30,32,33,33,33,32,33,32,33,32,33,33,32,33,32,33,25,27,29,32,33,25,27,31,31,29,33,33,31,33,32,33,32,33,32,33,33],\"start\":[0,0,0,0,0,0,0,0,0,0,0,0,0,0,0,0,1,1,1,1,1,1,1,1,2,2,2,2,2,2,2,2,3,3,3,4,4,5,5,5,6,8,8,8,9,13,14,14,15,15,18,18,19,20,20,22,22,23,23,23,23,23,24,24,24,25,26,26,27,28,28,29,29,30,30,31,31,32]},\"selected\":{\"id\":\"1565\",\"type\":\"Selection\"},\"selection_policy\":{\"id\":\"1566\",\"type\":\"UnionRenderers\"}},\"id\":\"1487\",\"type\":\"ColumnDataSource\"},{\"attributes\":{},\"id\":\"1565\",\"type\":\"Selection\"},{\"attributes\":{\"graph_layout\":{\"0\":[-0.7096734639951924,0.436791700134263],\"1\":[-0.6082133204699759,-0.005620710974551341],\"10\":[-0.8992869450601624,1.148007744983283],\"11\":[-1.6323032908230806,0.6768926392463449],\"12\":[-1.371700919468251,-0.11945210856600964],\"13\":[-0.33643076592134863,-0.2355420845476716],\"14\":[0.6933372964981543,-1.2965874334461984],\"15\":[1.1445065108367871,-1.0948934673323887],\"16\":[-1.2809942914478218,2.0],\"17\":[-1.1484433102583336,0.45826588422161263],\"18\":[0.9347152252000608,-1.233217403812817],\"19\":[-0.09169205204098668,0.17934019797253448],\"2\":[-0.07456569479487082,-0.06639168973285126],\"20\":[1.2011917289573864,-0.33682984723866766],\"21\":[-1.288872339858458,0.17636430861813213],\"22\":[0.4297817401283647,-1.2418185947024287],\"23\":[1.1737949982080957,-0.46774814152950817],\"24\":[1.168457129298509,0.47195480375110366],\"25\":[1.3533421878672531,0.1507487146724508],\"26\":[1.6164896958585926,-0.4998407926333635],\"27\":[0.8329320963280308,-0.004268185202942516],\"28\":[0.38681795322368157,-0.24535762074509918],\"29\":[1.305453783071139,-0.790411843631008],\"3\":[-0.824874679827431,-0.1906057354327054],\"30\":[-6.036770320762146e-05,-0.6644351519641786],\"31\":[0.5210663711450995,0.08859356655415954],\"32\":[0.6364849597128102,-0.6994709065324956],\"33\":[0.6368959886842653,-0.5117484123984721],\"4\":[-1.263444082313877,1.0591925295468279],\"5\":[-0.9376891564117332,1.461109280997],\"6\":[-1.1995405968699533,1.3867364094196202],\"7\":[-0.8192285083128698,0.07259969975851066],\"8\":[0.0028055621200309294,-0.33386489490851246],\"9\":[0.44894055843928604,0.2715075454560278]}},\"id\":\"1490\",\"type\":\"StaticLayoutProvider\"},{\"attributes\":{},\"id\":\"1566\",\"type\":\"UnionRenderers\"},{\"attributes\":{\"source\":{\"id\":\"1487\",\"type\":\"ColumnDataSource\"}},\"id\":\"1489\",\"type\":\"CDSView\"}],\"root_ids\":[\"1437\"]},\"title\":\"Bokeh Application\",\"version\":\"1.4.0\"}};\n",
       "  var render_items = [{\"docid\":\"83f6932b-01d5-44f2-b096-a6fa4e3eb6cb\",\"roots\":{\"1437\":\"e90627cb-9b6c-401c-84e8-2a0b3091e57b\"}}];\n",
       "  root.Bokeh.embed.embed_items_notebook(docs_json, render_items);\n",
       "\n",
       "  }\n",
       "  if (root.Bokeh !== undefined) {\n",
       "    embed_document(root);\n",
       "  } else {\n",
       "    var attempts = 0;\n",
       "    var timer = setInterval(function(root) {\n",
       "      if (root.Bokeh !== undefined) {\n",
       "        clearInterval(timer);\n",
       "        embed_document(root);\n",
       "      } else {\n",
       "        attempts++;\n",
       "        if (attempts > 100) {\n",
       "          clearInterval(timer);\n",
       "          console.log(\"Bokeh: ERROR: Unable to run BokehJS code because BokehJS library is missing\");\n",
       "        }\n",
       "      }\n",
       "    }, 10, root)\n",
       "  }\n",
       "})(window);"
      ],
      "application/vnd.bokehjs_exec.v0+json": ""
     },
     "metadata": {
      "application/vnd.bokehjs_exec.v0+json": {
       "id": "1437"
      }
     },
     "output_type": "display_data"
    }
   ],
   "source": [
    "from bokeh.io import output_file, show, curdoc\n",
    "from bokeh.plotting import figure\n",
    "from bokeh.models import (BoxSelectTool, Circle, EdgesAndLinkedNodes,\n",
    "                          HoverTool,\n",
    "                          MultiLine, NodesAndLinkedEdges, Plot, Range1d,\n",
    "                          TapTool, )\n",
    "from bokeh.models.graphs import from_networkx\n",
    "import networkx as nx\n",
    "\n",
    "p = figure()\n",
    "G = nx.karate_club_graph()\n",
    "\n",
    "plot = Plot(plot_width=400, plot_height=400,\n",
    "            x_range=Range1d(-1.1, 1.1), y_range=Range1d(-1.1, 1.1))\n",
    "plot.title.text = \"Graph Interaction Demonstration\"\n",
    "\n",
    "plot.add_tools(HoverTool(tooltips=None), TapTool(), BoxSelectTool())\n",
    "\n",
    "curdoc().add_root(plot)\n",
    "\n",
    "graph_renderer = from_networkx(G, nx.spring_layout, scale=2, center=(0, 0))\n",
    "\n",
    "graph_renderer.node_renderer.glyph = Circle(size=15, fill_color=\"#CCCCCC\")\n",
    "graph_renderer.node_renderer.selection_glyph = Circle(size=15, fill_color=\"#CCCCCC\")\n",
    "graph_renderer.node_renderer.hover_glyph = Circle(size=15, fill_color=\"#CCCCCC\")\n",
    "\n",
    "graph_renderer.edge_renderer.glyph = MultiLine(line_color=\"#CCCCCC\",\n",
    "                                               line_alpha=0.8,\n",
    "                                               line_width=5)\n",
    "graph_renderer.edge_renderer.selection_glyph = MultiLine(\n",
    "    line_width=5, line_color=\"#CCCCCC\")\n",
    "graph_renderer.edge_renderer.hover_glyph = MultiLine(\n",
    "    line_width=5, line_color=\"#CCCCCC\")\n",
    "\n",
    "graph_renderer.selection_policy = NodesAndLinkedEdges()\n",
    "graph_renderer.inspection_policy = EdgesAndLinkedNodes()\n",
    "\n",
    "plot.renderers.append(graph_renderer)\n",
    "\n",
    "output_notebook()\n",
    "show(plot)"
   ]
  },
  {
   "cell_type": "code",
   "execution_count": 34,
   "metadata": {},
   "outputs": [],
   "source": [
    "a = np.array([1, 2, 3])"
   ]
  },
  {
   "cell_type": "code",
   "execution_count": 35,
   "metadata": {},
   "outputs": [],
   "source": [
    "b = a + 1"
   ]
  },
  {
   "cell_type": "code",
   "execution_count": 36,
   "metadata": {},
   "outputs": [],
   "source": [
    "frame = inspect.currentframe()\n",
    "z = 2"
   ]
  },
  {
   "cell_type": "code",
   "execution_count": 37,
   "metadata": {},
   "outputs": [],
   "source": [
    "frame_info = inspect.getframeinfo(frame)\n",
    "x = 1"
   ]
  },
  {
   "cell_type": "code",
   "execution_count": 38,
   "metadata": {},
   "outputs": [
    {
     "data": {
      "text/plain": [
       "Traceback(filename='<ipython-input-36-92fece11e5e7>', lineno=1, function='<module>', code_context=['frame = inspect.currentframe()\\n'], index=0)"
      ]
     },
     "execution_count": 38,
     "metadata": {},
     "output_type": "execute_result"
    }
   ],
   "source": [
    "frame_info"
   ]
  },
  {
   "cell_type": "code",
   "execution_count": 39,
   "metadata": {},
   "outputs": [
    {
     "data": {
      "text/plain": [
       "<frame at 0x7f12a6ea1b30, file '<ipython-input-36-92fece11e5e7>', line 1, code <module>>"
      ]
     },
     "execution_count": 39,
     "metadata": {},
     "output_type": "execute_result"
    }
   ],
   "source": [
    "frame"
   ]
  },
  {
   "cell_type": "code",
   "execution_count": 40,
   "metadata": {},
   "outputs": [
    {
     "data": {
      "text/plain": [
       "('filename', 'lineno', 'function', 'code_context', 'index')"
      ]
     },
     "execution_count": 40,
     "metadata": {},
     "output_type": "execute_result"
    }
   ],
   "source": [
    "frame_info._fields"
   ]
  },
  {
   "cell_type": "code",
   "execution_count": 41,
   "metadata": {},
   "outputs": [
    {
     "name": "stderr",
     "output_type": "stream",
     "text": [
      "UsageError: Line magic function `%whos(\"f*\")` not found.\n"
     ]
    }
   ],
   "source": [
    "%whos(\"f*\")"
   ]
  },
  {
   "cell_type": "code",
   "execution_count": 42,
   "metadata": {},
   "outputs": [
    {
     "data": {
      "text/plain": [
       "list"
      ]
     },
     "execution_count": 42,
     "metadata": {},
     "output_type": "execute_result"
    }
   ],
   "source": [
    "type(_ih)"
   ]
  },
  {
   "cell_type": "code",
   "execution_count": 43,
   "metadata": {},
   "outputs": [
    {
     "data": {
      "text/plain": [
       "dict"
      ]
     },
     "execution_count": 43,
     "metadata": {},
     "output_type": "execute_result"
    }
   ],
   "source": [
    "type(_oh)"
   ]
  },
  {
   "cell_type": "code",
   "execution_count": 44,
   "metadata": {},
   "outputs": [
    {
     "data": {
      "text/plain": [
       "dict_keys([11, 13, 14, 15, 17, 18, 20, 21, 23, 24, 25, 29, 30, 31, 32, 38, 39, 40, 42, 43])"
      ]
     },
     "execution_count": 44,
     "metadata": {},
     "output_type": "execute_result"
    }
   ],
   "source": [
    "_oh.keys()"
   ]
  },
  {
   "cell_type": "code",
   "execution_count": 45,
   "metadata": {},
   "outputs": [
    {
     "data": {
      "text/plain": [
       "['',\n",
       " 'import numpy as np\\nimport elephant',\n",
       " 'import numpy as np\\nimport neo',\n",
       " 'b = a + 1',\n",
       " 'a = np.array([1, 2, 3])',\n",
       " 'b = a + 1',\n",
       " 'import numpy as np\\nimport neo\\nimport inspect',\n",
       " 'frame = inspect.get_current_frame()',\n",
       " 'frame = inspect.current_frame()',\n",
       " 'frame = inspect.currentframe()',\n",
       " 'frame_info = inspect.getframeinfo(frame)',\n",
       " 'frame_info',\n",
       " 'frame_info = inspect.getframeinfo(frame)\\nx = 1',\n",
       " 'frame_info',\n",
       " 'frame',\n",
       " 'inspect.getsourcelines(frame)',\n",
       " 'frame = inspect.currentframe()\\nz = 2',\n",
       " 'inspect.getsourcelines(frame)',\n",
       " 'inspect.getsourcelines(frame.f_back)',\n",
       " 'inspect.getsourcelines(frame.f_locals)',\n",
       " 'frame.f_locals',\n",
       " 'frame.f_globals',\n",
       " 'frame.function',\n",
       " 'frame_info.function',\n",
       " 'dir(frame_info)',\n",
       " 'frame_info._fields',\n",
       " \"get_ipython().run_line_magic('who(f*)', '')\",\n",
       " \"get_ipython().run_line_magic('whos(f*)', '')\",\n",
       " 'get_ipython().run_line_magic(\\'whos(\"f*\")\\', \\'\\')',\n",
       " 'type(_ih)',\n",
       " 'type(_oh)',\n",
       " '_oh.keys()',\n",
       " '_ih',\n",
       " 'import numpy as np\\nimport neo\\nimport inspect',\n",
       " 'a = np.array([1, 2, 3])',\n",
       " 'b = a + 1',\n",
       " 'frame = inspect.currentframe()\\nz = 2',\n",
       " 'frame_info = inspect.getframeinfo(frame)\\nx = 1',\n",
       " 'frame_info',\n",
       " 'frame',\n",
       " 'frame_info._fields',\n",
       " 'get_ipython().run_line_magic(\\'whos(\"f*\")\\', \\'\\')',\n",
       " 'type(_ih)',\n",
       " 'type(_oh)',\n",
       " '_oh.keys()',\n",
       " '_ih']"
      ]
     },
     "execution_count": 45,
     "metadata": {},
     "output_type": "execute_result"
    }
   ],
   "source": [
    "_ih"
   ]
  },
  {
   "cell_type": "code",
   "execution_count": 46,
   "metadata": {},
   "outputs": [],
   "source": [
    "p = get_ipython()"
   ]
  },
  {
   "cell_type": "code",
   "execution_count": 47,
   "metadata": {},
   "outputs": [
    {
     "data": {
      "text/plain": [
       "<ipykernel.zmqshell.ZMQInteractiveShell at 0x7f12f18c61c0>"
      ]
     },
     "execution_count": 47,
     "metadata": {},
     "output_type": "execute_result"
    }
   ],
   "source": [
    "p"
   ]
  },
  {
   "cell_type": "code",
   "execution_count": 48,
   "metadata": {},
   "outputs": [
    {
     "data": {
      "text/plain": [
       "['Completer',\n",
       " 'CustomTB',\n",
       " 'InteractiveTB',\n",
       " 'SyntaxTB',\n",
       " '__class__',\n",
       " '__delattr__',\n",
       " '__dict__',\n",
       " '__dir__',\n",
       " '__doc__',\n",
       " '__eq__',\n",
       " '__format__',\n",
       " '__ge__',\n",
       " '__getattribute__',\n",
       " '__getstate__',\n",
       " '__gt__',\n",
       " '__hash__',\n",
       " '__init__',\n",
       " '__init_subclass__',\n",
       " '__le__',\n",
       " '__lt__',\n",
       " '__module__',\n",
       " '__ne__',\n",
       " '__new__',\n",
       " '__reduce__',\n",
       " '__reduce_ex__',\n",
       " '__repr__',\n",
       " '__setattr__',\n",
       " '__setstate__',\n",
       " '__sizeof__',\n",
       " '__str__',\n",
       " '__subclasshook__',\n",
       " '__weakref__',\n",
       " '_add_notifiers',\n",
       " '_async_exec',\n",
       " '_call_pdb',\n",
       " '_clear_warning_registry',\n",
       " '_config_changed',\n",
       " '_cross_validation_lock',\n",
       " '_default_banner1',\n",
       " '_default_exiter',\n",
       " '_default_loop_runner',\n",
       " '_enable_html_pager_changed',\n",
       " '_exiter_default',\n",
       " '_find_my_config',\n",
       " '_format_user_obj',\n",
       " '_get_call_pdb',\n",
       " '_get_exc_info',\n",
       " '_getattr_property',\n",
       " '_import_runner',\n",
       " '_indent_current_str',\n",
       " '_inspect',\n",
       " '_instance',\n",
       " '_ipython_dir_changed',\n",
       " '_last_input_line',\n",
       " '_last_traceback',\n",
       " '_load_config',\n",
       " '_log_default',\n",
       " '_main_mod_cache',\n",
       " '_notify_trait',\n",
       " '_object_find',\n",
       " '_ofind',\n",
       " '_orig_sys_module_state',\n",
       " '_orig_sys_modules_main_mod',\n",
       " '_orig_sys_modules_main_name',\n",
       " '_post_execute',\n",
       " '_prompt_trait_changed',\n",
       " '_register_validator',\n",
       " '_remove_notifiers',\n",
       " '_run_cell',\n",
       " '_set_call_pdb',\n",
       " '_showtraceback',\n",
       " '_sphinxify_docstring_changed',\n",
       " '_trait_default_generators',\n",
       " '_trait_notifiers',\n",
       " '_trait_validators',\n",
       " '_trait_values',\n",
       " '_update_exit_now',\n",
       " '_user_obj_error',\n",
       " '_walk_mro',\n",
       " 'active_eventloop',\n",
       " 'add_traits',\n",
       " 'alias_manager',\n",
       " 'all_ns_refs',\n",
       " 'ask_exit',\n",
       " 'ask_yes_no',\n",
       " 'ast_node_interactivity',\n",
       " 'ast_transformers',\n",
       " 'atexit_operations',\n",
       " 'auto_rewrite_input',\n",
       " 'autoawait',\n",
       " 'autocall',\n",
       " 'autoindent',\n",
       " 'automagic',\n",
       " 'banner',\n",
       " 'banner1',\n",
       " 'banner2',\n",
       " 'builtin_trap',\n",
       " 'cache_size',\n",
       " 'call_pdb',\n",
       " 'check_complete',\n",
       " 'class_config_rst_doc',\n",
       " 'class_config_section',\n",
       " 'class_get_help',\n",
       " 'class_get_trait_help',\n",
       " 'class_own_trait_events',\n",
       " 'class_own_traits',\n",
       " 'class_print_help',\n",
       " 'class_trait_names',\n",
       " 'class_traits',\n",
       " 'cleanup',\n",
       " 'clear_instance',\n",
       " 'clear_main_mod_cache',\n",
       " 'color_info',\n",
       " 'colors',\n",
       " 'compile',\n",
       " 'complete',\n",
       " 'config',\n",
       " 'configurables',\n",
       " 'cross_validation_lock',\n",
       " 'custom_exceptions',\n",
       " 'data_pub',\n",
       " 'data_pub_class',\n",
       " 'db',\n",
       " 'debug',\n",
       " 'debugger',\n",
       " 'debugger_cls',\n",
       " 'default_user_namespaces',\n",
       " 'define_macro',\n",
       " 'del_var',\n",
       " 'dir_stack',\n",
       " 'disable_failing_post_execute',\n",
       " 'display_formatter',\n",
       " 'display_page',\n",
       " 'display_pub',\n",
       " 'display_pub_class',\n",
       " 'display_trap',\n",
       " 'displayhook',\n",
       " 'displayhook_class',\n",
       " 'drop_by_id',\n",
       " 'enable_gui',\n",
       " 'enable_html_pager',\n",
       " 'enable_matplotlib',\n",
       " 'enable_pylab',\n",
       " 'ev',\n",
       " 'events',\n",
       " 'ex',\n",
       " 'excepthook',\n",
       " 'execution_count',\n",
       " 'exit_now',\n",
       " 'exiter',\n",
       " 'extension_manager',\n",
       " 'extract_input_lines',\n",
       " 'filename',\n",
       " 'find_cell_magic',\n",
       " 'find_line_magic',\n",
       " 'find_magic',\n",
       " 'find_user_code',\n",
       " 'get_exception_only',\n",
       " 'get_ipython',\n",
       " 'get_parent',\n",
       " 'getoutput',\n",
       " 'has_trait',\n",
       " 'history_length',\n",
       " 'history_load_length',\n",
       " 'history_manager',\n",
       " 'hold_trait_notifications',\n",
       " 'home_dir',\n",
       " 'hooks',\n",
       " 'indent_current_nsp',\n",
       " 'init_alias',\n",
       " 'init_builtins',\n",
       " 'init_completer',\n",
       " 'init_create_namespaces',\n",
       " 'init_data_pub',\n",
       " 'init_deprecation_warnings',\n",
       " 'init_display_formatter',\n",
       " 'init_display_pub',\n",
       " 'init_displayhook',\n",
       " 'init_encoding',\n",
       " 'init_environment',\n",
       " 'init_events',\n",
       " 'init_extension_manager',\n",
       " 'init_history',\n",
       " 'init_hooks',\n",
       " 'init_inspector',\n",
       " 'init_instance_attrs',\n",
       " 'init_io',\n",
       " 'init_ipython_dir',\n",
       " 'init_logger',\n",
       " 'init_logstart',\n",
       " 'init_magics',\n",
       " 'init_payload',\n",
       " 'init_pdb',\n",
       " 'init_prefilter',\n",
       " 'init_profile_dir',\n",
       " 'init_prompts',\n",
       " 'init_pushd_popd_magic',\n",
       " 'init_readline',\n",
       " 'init_syntax_highlighting',\n",
       " 'init_sys_modules',\n",
       " 'init_traceback_handlers',\n",
       " 'init_user_ns',\n",
       " 'init_virtualenv',\n",
       " 'initialized',\n",
       " 'input_splitter',\n",
       " 'input_transformer_manager',\n",
       " 'input_transformers_cleanup',\n",
       " 'input_transformers_post',\n",
       " 'inspector',\n",
       " 'instance',\n",
       " 'ipython_dir',\n",
       " 'keepkernel_on_exit',\n",
       " 'kernel',\n",
       " 'last_execution_result',\n",
       " 'last_execution_succeeded',\n",
       " 'log',\n",
       " 'logappend',\n",
       " 'logfile',\n",
       " 'logger',\n",
       " 'logstart',\n",
       " 'loop_runner',\n",
       " 'loop_runner_map',\n",
       " 'magic',\n",
       " 'magics_manager',\n",
       " 'meta',\n",
       " 'mktempfile',\n",
       " 'more',\n",
       " 'new_main_mod',\n",
       " 'notify_change',\n",
       " 'ns_table',\n",
       " 'object_info_string_level',\n",
       " 'object_inspect',\n",
       " 'object_inspect_mime',\n",
       " 'object_inspect_text',\n",
       " 'observe',\n",
       " 'on_trait_change',\n",
       " 'parent',\n",
       " 'parent_header',\n",
       " 'payload_manager',\n",
       " 'pdb',\n",
       " 'prefilter',\n",
       " 'prefilter_manager',\n",
       " 'prepare_user_module',\n",
       " 'profile',\n",
       " 'profile_dir',\n",
       " 'prompt_in1',\n",
       " 'prompt_in2',\n",
       " 'prompt_out',\n",
       " 'prompts_pad_left',\n",
       " 'push',\n",
       " 'pycolorize',\n",
       " 'pylab_gui_select',\n",
       " 'quiet',\n",
       " 'raw_input_original',\n",
       " 'readline_use',\n",
       " 'refresh_style',\n",
       " 'register_magic_function',\n",
       " 'register_magics',\n",
       " 'register_post_execute',\n",
       " 'reset',\n",
       " 'reset_selective',\n",
       " 'restore_sys_module_state',\n",
       " 'run_ast_nodes',\n",
       " 'run_cell',\n",
       " 'run_cell_async',\n",
       " 'run_cell_magic',\n",
       " 'run_code',\n",
       " 'run_line_magic',\n",
       " 'runcode',\n",
       " 'safe_execfile',\n",
       " 'safe_execfile_ipy',\n",
       " 'safe_run_module',\n",
       " 'save_sys_module_state',\n",
       " 'section_names',\n",
       " 'separate_in',\n",
       " 'separate_out',\n",
       " 'separate_out2',\n",
       " 'set_autoindent',\n",
       " 'set_completer_frame',\n",
       " 'set_custom_completer',\n",
       " 'set_custom_exc',\n",
       " 'set_hook',\n",
       " 'set_next_input',\n",
       " 'set_parent',\n",
       " 'set_trait',\n",
       " 'set_trio_runner',\n",
       " 'setup_instance',\n",
       " 'should_run_async',\n",
       " 'show_banner',\n",
       " 'show_rewritten_input',\n",
       " 'show_usage',\n",
       " 'show_usage_error',\n",
       " 'showindentationerror',\n",
       " 'showsyntaxerror',\n",
       " 'showtraceback',\n",
       " 'sphinxify_docstring',\n",
       " 'starting_dir',\n",
       " 'stdin_encoding',\n",
       " 'strdispatchers',\n",
       " 'switch_doctest_mode',\n",
       " 'sys_excepthook',\n",
       " 'system',\n",
       " 'system_piped',\n",
       " 'system_raw',\n",
       " 'tempdirs',\n",
       " 'tempfiles',\n",
       " 'trait_events',\n",
       " 'trait_metadata',\n",
       " 'trait_names',\n",
       " 'traits',\n",
       " 'transform_ast',\n",
       " 'transform_cell',\n",
       " 'trio_runner',\n",
       " 'unobserve',\n",
       " 'unobserve_all',\n",
       " 'update_config',\n",
       " 'user_expressions',\n",
       " 'user_global_ns',\n",
       " 'user_module',\n",
       " 'user_ns',\n",
       " 'user_ns_hidden',\n",
       " 'var_expand',\n",
       " 'wildcards_case_sensitive',\n",
       " 'write',\n",
       " 'write_err',\n",
       " 'xmode']"
      ]
     },
     "execution_count": 48,
     "metadata": {},
     "output_type": "execute_result"
    }
   ],
   "source": [
    "dir(p)"
   ]
  },
  {
   "cell_type": "code",
   "execution_count": 62,
   "metadata": {},
   "outputs": [
    {
     "data": {
      "text/plain": [
       "<Logger IPKernelApp (WARNING)>"
      ]
     },
     "execution_count": 62,
     "metadata": {},
     "output_type": "execute_result"
    }
   ],
   "source": [
    "p.kernel.log"
   ]
  },
  {
   "cell_type": "code",
   "execution_count": 63,
   "metadata": {},
   "outputs": [
    {
     "data": {
      "text/plain": [
       "array([1, 2, 3])"
      ]
     },
     "execution_count": 63,
     "metadata": {},
     "output_type": "execute_result"
    }
   ],
   "source": [
    "globals()['a']"
   ]
  },
  {
   "cell_type": "code",
   "execution_count": 64,
   "metadata": {},
   "outputs": [
    {
     "data": {
      "text/plain": [
       "<function numpy.array>"
      ]
     },
     "execution_count": 64,
     "metadata": {},
     "output_type": "execute_result"
    }
   ],
   "source": [
    "np.array"
   ]
  },
  {
   "cell_type": "code",
   "execution_count": 66,
   "metadata": {},
   "outputs": [
    {
     "data": {
      "text/plain": [
       "<Signature (a, axis=None, dtype=None, out=None, keepdims=<no value>, initial=<no value>, where=<no value>)>"
      ]
     },
     "execution_count": 66,
     "metadata": {},
     "output_type": "execute_result"
    }
   ],
   "source": [
    "inspect.signature(np.sum)"
   ]
  },
  {
   "cell_type": "code",
   "execution_count": null,
   "metadata": {},
   "outputs": [],
   "source": []
  }
 ],
 "metadata": {
  "kernelspec": {
   "display_name": "elephant",
   "language": "python",
   "name": "elephant"
  },
  "language_info": {
   "codemirror_mode": {
    "name": "ipython",
    "version": 3
   },
   "file_extension": ".py",
   "mimetype": "text/x-python",
   "name": "python",
   "nbconvert_exporter": "python",
   "pygments_lexer": "ipython3",
   "version": "3.7.5"
  }
 },
 "nbformat": 4,
 "nbformat_minor": 4
}
