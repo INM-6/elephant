{
 "cells": [
  {
   "cell_type": "code",
   "execution_count": 1,
   "metadata": {},
   "outputs": [
    {
     "data": {
      "text/plain": [
       "'2.7.18 |Anaconda, Inc.| (default, Apr 23 2020, 22:42:48) \\n[GCC 7.3.0]'"
      ]
     },
     "execution_count": 1,
     "metadata": {},
     "output_type": "execute_result"
    }
   ],
   "source": [
    "from collections import namedtuple\n",
    "import datetime\n",
    "import sys\n",
    "sys.version"
   ]
  },
  {
   "cell_type": "markdown",
   "metadata": {},
   "source": [
    "# Objects\n",
    "\n",
    "### Base object class"
   ]
  },
  {
   "cell_type": "code",
   "execution_count": 2,
   "metadata": {},
   "outputs": [],
   "source": [
    "class AnalysisObject(object):\n",
    "\n",
    "    _ontology_name = \"AnalysisObject\"\n",
    "    _create_timestamp = None\n",
    "\n",
    "    @property\n",
    "    def create_timestamp(self):\n",
    "        return self._create_timestamp\n",
    "\n",
    "    @property\n",
    "    def name(self):\n",
    "        return self._ontology_name\n",
    "\n",
    "    def __init__(self, *args, **kwargs):\n",
    "        self._create_timestamp = datetime.datetime.now()\n"
   ]
  },
  {
   "cell_type": "markdown",
   "metadata": {},
   "source": [
    "### Define objects for single return value"
   ]
  },
  {
   "cell_type": "code",
   "execution_count": 3,
   "metadata": {},
   "outputs": [],
   "source": [
    "class SingleValueReturnTuple(AnalysisObject, namedtuple('SingleValueReturnTuple', 'value')):\n",
    "    \"\"\"Returning as a single value named tuple\"\"\"\n",
    "\n",
    "\n",
    "class SingleValueReturn(AnalysisObject, int):\n",
    "    \"\"\"Returning as subclass of the original return value type\"\"\"\n",
    "\n",
    "    @property\n",
    "    def value(self):\n",
    "        \"\"\"Added to mimic the behavior of named tuple\"\"\"\n",
    "        return self"
   ]
  },
  {
   "cell_type": "markdown",
   "metadata": {},
   "source": [
    "### Define objects for multiple return values"
   ]
  },
  {
   "cell_type": "code",
   "execution_count": 4,
   "metadata": {},
   "outputs": [],
   "source": [
    "class MultipleValueReturn(AnalysisObject, namedtuple('MultipleValueReturn', 'first second')):\n",
    "    \"\"\"Returning as a named tuple with two values: first and second\"\"\""
   ]
  },
  {
   "cell_type": "markdown",
   "metadata": {},
   "source": [
    "# Functions\n",
    "\n",
    "### Define functions using standard return values"
   ]
  },
  {
   "cell_type": "code",
   "execution_count": 5,
   "metadata": {},
   "outputs": [],
   "source": [
    "def return_one_int():\n",
    "    \"\"\"Returns 1\"\"\"\n",
    "    return 1\n",
    "\n",
    "def return_two_ints():\n",
    "    \"\"\" Returns 1 and 2\"\"\"\n",
    "    return 1, 2"
   ]
  },
  {
   "cell_type": "markdown",
   "metadata": {},
   "source": [
    "### Define same functions returning objects instead"
   ]
  },
  {
   "cell_type": "code",
   "execution_count": 6,
   "metadata": {},
   "outputs": [],
   "source": [
    "def obj_return_one_int_tuple():\n",
    "    original_value = 1\n",
    "    return SingleValueReturnTuple(original_value)\n",
    "\n",
    "\n",
    "def obj_return_one_int():\n",
    "    original_value = 1\n",
    "    return SingleValueReturn(original_value)\n",
    "\n",
    "\n",
    "def obj_return_two_ints():\n",
    "    original_value = (1, 2)\n",
    "    return MultipleValueReturn(*original_value)"
   ]
  },
  {
   "cell_type": "markdown",
   "metadata": {},
   "source": [
    "# Single return function\n",
    "\n",
    "### Test behavior of single return function"
   ]
  },
  {
   "cell_type": "code",
   "execution_count": 7,
   "metadata": {},
   "outputs": [
    {
     "name": "stdout",
     "output_type": "stream",
     "text": [
      "Value of 'i' is 1\n",
      "Type of 'i' is <type 'int'>\n",
      "'i + 1' equals 2\n"
     ]
    }
   ],
   "source": [
    "i = return_one_int()\n",
    "print(\"Value of 'i' is {}\".format(i))\n",
    "print(\"Type of 'i' is {}\".format(type(i)))\n",
    "print(\"'i + 1' equals {}\".format(i + 1))"
   ]
  },
  {
   "cell_type": "markdown",
   "metadata": {},
   "source": [
    "### Test behavior of single return function using objects\n",
    "\n",
    "Testing behavior as original code, when **subclassing**"
   ]
  },
  {
   "cell_type": "code",
   "execution_count": 8,
   "metadata": {},
   "outputs": [
    {
     "name": "stdout",
     "output_type": "stream",
     "text": [
      "Value of 'i' is 1\n",
      "Type of 'i' is <class '__main__.SingleValueReturn'>\n",
      "'i + 1' equals 2\n"
     ]
    }
   ],
   "source": [
    "i = obj_return_one_int()\n",
    "print(\"Value of 'i' is {}\".format(i))\n",
    "print(\"Type of 'i' is {}\".format(type(i)))\n",
    "print(\"'i + 1' equals {}\".format(i + 1))"
   ]
  },
  {
   "cell_type": "markdown",
   "metadata": {},
   "source": [
    "Testing behavior of AnalysisObject"
   ]
  },
  {
   "cell_type": "code",
   "execution_count": 9,
   "metadata": {},
   "outputs": [
    {
     "name": "stdout",
     "output_type": "stream",
     "text": [
      "'i' was created on 2020-05-27 20:55:50.793562\n",
      "'i' is analysis of type AnalysisObject\n",
      "Value of 'i' is 1\n",
      "Type of 'i' is <class '__main__.SingleValueReturn'>\n",
      "'i + 1' equals 2\n"
     ]
    }
   ],
   "source": [
    "print(\"'i' was created on {}\".format(i.create_timestamp))\n",
    "print(\"'i' is analysis of type {}\".format(i.name))\n",
    "print(\"Value of 'i' is {}\".format(i.value))\n",
    "print(\"Type of 'i' is {}\".format(type(i)))\n",
    "print(\"'i + 1' equals {}\".format(i.value + 1))"
   ]
  },
  {
   "cell_type": "markdown",
   "metadata": {},
   "source": [
    "**ERROR: original code breaks when using named tuples...**\n",
    "\n",
    "Testing behavior as original code, but using return as a single **named tuple**"
   ]
  },
  {
   "cell_type": "code",
   "execution_count": 10,
   "metadata": {},
   "outputs": [
    {
     "name": "stdout",
     "output_type": "stream",
     "text": [
      "Value of 'i' is SingleValueReturnTuple(value=1)\n",
      "Type of 'i' is <class '__main__.SingleValueReturnTuple'>\n"
     ]
    },
    {
     "ename": "TypeError",
     "evalue": "can only concatenate tuple (not \"int\") to tuple",
     "output_type": "error",
     "traceback": [
      "\u001b[0;31m---------------------------------------------------------------------------\u001b[0m",
      "\u001b[0;31mTypeError\u001b[0m                                 Traceback (most recent call last)",
      "\u001b[0;32m<ipython-input-10-2faac5877257>\u001b[0m in \u001b[0;36m<module>\u001b[0;34m()\u001b[0m\n\u001b[1;32m      2\u001b[0m \u001b[0;32mprint\u001b[0m\u001b[0;34m(\u001b[0m\u001b[0;34m\"Value of 'i' is {}\"\u001b[0m\u001b[0;34m.\u001b[0m\u001b[0mformat\u001b[0m\u001b[0;34m(\u001b[0m\u001b[0mi\u001b[0m\u001b[0;34m)\u001b[0m\u001b[0;34m)\u001b[0m\u001b[0;34m\u001b[0m\u001b[0m\n\u001b[1;32m      3\u001b[0m \u001b[0;32mprint\u001b[0m\u001b[0;34m(\u001b[0m\u001b[0;34m\"Type of 'i' is {}\"\u001b[0m\u001b[0;34m.\u001b[0m\u001b[0mformat\u001b[0m\u001b[0;34m(\u001b[0m\u001b[0mtype\u001b[0m\u001b[0;34m(\u001b[0m\u001b[0mi\u001b[0m\u001b[0;34m)\u001b[0m\u001b[0;34m)\u001b[0m\u001b[0;34m)\u001b[0m\u001b[0;34m\u001b[0m\u001b[0m\n\u001b[0;32m----> 4\u001b[0;31m \u001b[0;32mprint\u001b[0m\u001b[0;34m(\u001b[0m\u001b[0;34m\"'i + 1' equals {}\"\u001b[0m\u001b[0;34m.\u001b[0m\u001b[0mformat\u001b[0m\u001b[0;34m(\u001b[0m\u001b[0mi\u001b[0m \u001b[0;34m+\u001b[0m \u001b[0;36m1\u001b[0m\u001b[0;34m)\u001b[0m\u001b[0;34m)\u001b[0m\u001b[0;34m\u001b[0m\u001b[0m\n\u001b[0m",
      "\u001b[0;31mTypeError\u001b[0m: can only concatenate tuple (not \"int\") to tuple"
     ]
    }
   ],
   "source": [
    "i = obj_return_one_int_tuple()\n",
    "print(\"Value of 'i' is {}\".format(i))\n",
    "print(\"Type of 'i' is {}\".format(type(i)))\n",
    "print(\"'i + 1' equals {}\".format(i + 1))"
   ]
  },
  {
   "cell_type": "markdown",
   "metadata": {},
   "source": [
    "Testing behavior of AnalysisObject"
   ]
  },
  {
   "cell_type": "code",
   "execution_count": 11,
   "metadata": {},
   "outputs": [
    {
     "name": "stdout",
     "output_type": "stream",
     "text": [
      "'i' was created on 2020-05-27 20:55:50.813157\n",
      "'i' is analysis of type AnalysisObject\n",
      "Value of 'i' is 1\n",
      "Type of 'i' is <class '__main__.SingleValueReturnTuple'>\n",
      "'i + 1' equals 2\n"
     ]
    }
   ],
   "source": [
    "print(\"'i' was created on {}\".format(i.create_timestamp))\n",
    "print(\"'i' is analysis of type {}\".format(i.name))\n",
    "print(\"Value of 'i' is {}\".format(i.value))\n",
    "print(\"Type of 'i' is {}\".format(type(i)))\n",
    "print(\"'i + 1' equals {}\".format(i.value + 1))"
   ]
  },
  {
   "cell_type": "markdown",
   "metadata": {},
   "source": [
    "**...unless code is changed**"
   ]
  },
  {
   "cell_type": "code",
   "execution_count": 12,
   "metadata": {},
   "outputs": [
    {
     "name": "stdout",
     "output_type": "stream",
     "text": [
      "Value of 'i' is 1\n",
      "Type of 'i' is <type 'int'>\n",
      "'i + 1' equals 2\n"
     ]
    }
   ],
   "source": [
    "i, = obj_return_one_int_tuple()\n",
    "print(\"Value of 'i' is {}\".format(i))\n",
    "print(\"Type of 'i' is {}\".format(type(i)))\n",
    "print(\"'i + 1' equals {}\".format(i + 1))"
   ]
  },
  {
   "cell_type": "code",
   "execution_count": 13,
   "metadata": {},
   "outputs": [
    {
     "name": "stdout",
     "output_type": "stream",
     "text": [
      "Value of 'i' is 1\n",
      "Type of 'i' is <type 'int'>\n",
      "'i + 1' equals 2\n"
     ]
    }
   ],
   "source": [
    "i = obj_return_one_int_tuple()[0]\n",
    "print(\"Value of 'i' is {}\".format(i))\n",
    "print(\"Type of 'i' is {}\".format(type(i)))\n",
    "print(\"'i + 1' equals {}\".format(i + 1))"
   ]
  },
  {
   "cell_type": "code",
   "execution_count": 14,
   "metadata": {},
   "outputs": [
    {
     "name": "stdout",
     "output_type": "stream",
     "text": [
      "Value of 'i' is 1\n",
      "Type of 'i' is <type 'int'>\n",
      "'i + 1' equals 2\n"
     ]
    }
   ],
   "source": [
    "i = obj_return_one_int_tuple().value\n",
    "print(\"Value of 'i' is {}\".format(i))\n",
    "print(\"Type of 'i' is {}\".format(type(i)))\n",
    "print(\"'i + 1' equals {}\".format(i + 1))"
   ]
  },
  {
   "cell_type": "markdown",
   "metadata": {},
   "source": [
    "# Multiple return functions\n",
    "\n",
    "### Test behavior of multiple return function"
   ]
  },
  {
   "cell_type": "code",
   "execution_count": 15,
   "metadata": {},
   "outputs": [
    {
     "name": "stdout",
     "output_type": "stream",
     "text": [
      "Value of 'j' is: 1\n",
      "Value of 'k' is: 2\n",
      "'j + k' equals 3\n",
      "Type of 'j' and 'k' are: <type 'int'>, <type 'int'>\n"
     ]
    }
   ],
   "source": [
    "j, k = return_two_ints()\n",
    "print(\"Value of 'j' is: {}\".format(j))\n",
    "print(\"Value of 'k' is: {}\".format(k))\n",
    "print(\"'j + k' equals {}\".format(j + k))\n",
    "print(\"Type of 'j' and 'k' are: {}, {}\".format(type(j), type(k)))"
   ]
  },
  {
   "cell_type": "markdown",
   "metadata": {},
   "source": [
    "### Test behavior of multiple return function using objects\n",
    "\n",
    "Testing behavior as original code"
   ]
  },
  {
   "cell_type": "code",
   "execution_count": 16,
   "metadata": {},
   "outputs": [
    {
     "name": "stdout",
     "output_type": "stream",
     "text": [
      "Value of 'j' is: 1\n",
      "Value of 'k' is: 2\n",
      "'j + k' equals 3\n",
      "Type of 'j' and 'k' are: <type 'int'>, <type 'int'>\n"
     ]
    }
   ],
   "source": [
    "j, k = obj_return_two_ints()\n",
    "print(\"Value of 'j' is: {}\".format(j))\n",
    "print(\"Value of 'k' is: {}\".format(k))\n",
    "print(\"'j + k' equals {}\".format(j + k))\n",
    "print(\"Type of 'j' and 'k' are: {}, {}\".format(type(j), type(k)))"
   ]
  },
  {
   "cell_type": "markdown",
   "metadata": {},
   "source": [
    "Testing behavior of AnalysisObject (now all values are packed into the object, accessible by a meaningful attribute)"
   ]
  },
  {
   "cell_type": "code",
   "execution_count": 17,
   "metadata": {},
   "outputs": [
    {
     "name": "stdout",
     "output_type": "stream",
     "text": [
      "'jk' was created on 2020-05-27 20:56:03.308936\n",
      "'jk' is analysis of type AnalysisObject\n",
      "Value of 'j' is: 1\n",
      "Value of 'k' is: 2\n",
      "'j + k' equals 3\n",
      "Type of 'j' and 'k' are: <type 'int'>, <type 'int'>\n"
     ]
    }
   ],
   "source": [
    "obj_jk = obj_return_two_ints()\n",
    "print(\"'jk' was created on {}\".format(obj_jk.create_timestamp))\n",
    "print(\"'jk' is analysis of type {}\".format(obj_jk.name))\n",
    "print(\"Value of 'j' is: {}\".format(obj_jk.first))\n",
    "print(\"Value of 'k' is: {}\".format(obj_jk.second))\n",
    "print(\"'j + k' equals {}\".format(obj_jk.first + obj_jk.second))\n",
    "print(\"Type of 'j' and 'k' are: {}, {}\".format(type(obj_jk.first), type(obj_jk.second)))"
   ]
  }
 ],
 "metadata": {
  "kernelspec": {
   "display_name": "Python 2",
   "language": "python",
   "name": "python2"
  },
  "language_info": {
   "codemirror_mode": {
    "name": "ipython",
    "version": 2
   },
   "file_extension": ".py",
   "mimetype": "text/x-python",
   "name": "python",
   "nbconvert_exporter": "python",
   "pygments_lexer": "ipython2",
   "version": "2.7.18"
  }
 },
 "nbformat": 4,
 "nbformat_minor": 4
}
