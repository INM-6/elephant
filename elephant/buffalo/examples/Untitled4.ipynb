{
 "cells": [
  {
   "cell_type": "code",
   "execution_count": 5,
   "metadata": {},
   "outputs": [
    {
     "name": "stdout",
     "output_type": "stream",
     "text": [
      "[4, 6, 8, 9, 10, 12, 14, 15, 16, 18]\n"
     ]
    }
   ],
   "source": [
    "def func(i):\n",
    "    output = []\n",
    "    for j in range(2, i):\n",
    "        flag = True\n",
    "        for k in range (2, j) :\n",
    "            if j % k == 0 :\n",
    "                flag = False\n",
    "                break\n",
    "        if not flag :\n",
    "            output.append(j)\n",
    "    return output\n",
    "print(func(20))"
   ]
  },
  {
   "cell_type": "code",
   "execution_count": null,
   "metadata": {},
   "outputs": [],
   "source": []
  }
 ],
 "metadata": {
  "kernelspec": {
   "display_name": "elephant",
   "language": "python",
   "name": "elephant"
  },
  "language_info": {
   "codemirror_mode": {
    "name": "ipython",
    "version": 3
   },
   "file_extension": ".py",
   "mimetype": "text/x-python",
   "name": "python",
   "nbconvert_exporter": "python",
   "pygments_lexer": "ipython3",
   "version": "3.7.5"
  }
 },
 "nbformat": 4,
 "nbformat_minor": 4
}
