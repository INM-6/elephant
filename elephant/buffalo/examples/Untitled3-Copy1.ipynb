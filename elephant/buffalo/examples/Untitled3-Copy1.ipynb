{
 "cells": [
  {
   "cell_type": "code",
   "execution_count": null,
   "metadata": {},
   "outputs": [],
   "source": [
    "from prov.model import *"
   ]
  },
  {
   "cell_type": "code",
   "execution_count": 2,
   "metadata": {},
   "outputs": [],
   "source": [
    "from prov.graph import prov_to_graph, graph_to_prov"
   ]
  },
  {
   "cell_type": "code",
   "execution_count": 3,
   "metadata": {},
   "outputs": [],
   "source": [
    "import networkx as nx"
   ]
  },
  {
   "cell_type": "code",
   "execution_count": 4,
   "metadata": {},
   "outputs": [],
   "source": [
    "import matplotlib.pyplot as plt"
   ]
  },
  {
   "cell_type": "code",
   "execution_count": 5,
   "metadata": {},
   "outputs": [],
   "source": [
    "%matplotlib inline"
   ]
  },
  {
   "cell_type": "code",
   "execution_count": 22,
   "metadata": {},
   "outputs": [],
   "source": [
    "# file_path = \"/home/koehler/PycharmProjects/alpaca/examples/run_basic.ttl\"\n",
    "file_path = \"/home/koehler/outputs/provenance/psd_by_trial_type/R2G_PSD_all_subjects.ttl\""
   ]
  },
  {
   "cell_type": "code",
   "execution_count": 23,
   "metadata": {},
   "outputs": [],
   "source": [
    "doc = ProvDocument.deserialize(file_path, format=\"rdf\")"
   ]
  },
  {
   "cell_type": "code",
   "execution_count": 24,
   "metadata": {},
   "outputs": [],
   "source": [
    "def _filter_and_reverse(graph):\n",
    "    filter_nodes = [node for node in graph.nodes if not isinstance(node, (ProvEntity, ProvActivity))]\n",
    "    graph.remove_nodes_from(filter_nodes)\n",
    "\n",
    "    filter_edges = [edge for *edge, data in graph.edges(data=True) if not isinstance(data['relation'], (ProvMembership, ProvUsage, ProvGeneration))]\n",
    "    graph.remove_edges_from(filter_edges)\n",
    "    return graph.reverse(copy=True)"
   ]
  },
  {
   "cell_type": "code",
   "execution_count": 25,
   "metadata": {},
   "outputs": [],
   "source": [
    "g = prov_to_graph(doc)"
   ]
  },
  {
   "cell_type": "code",
   "execution_count": null,
   "metadata": {},
   "outputs": [],
   "source": [
    "raw_prov = _filter_and_reverse(g)"
   ]
  },
  {
   "cell_type": "code",
   "execution_count": 10,
   "metadata": {},
   "outputs": [],
   "source": [
    "NID_ALPACA = \"alpaca\"\n",
    "\n",
    "NSS_FUNCTION = \"function\"             # Functions executed\n",
    "NSS_FILE = \"file\"                     # Files accessed\n",
    "NSS_DATA = \"object\"                   # Data objects (input/outputs/containers)\n",
    "NSS_SCRIPT = \"script\"                 # The execution script\n",
    "\n",
    "NSS_PARAMETER = \"parameter\"           # Function parameter\n",
    "NSS_ATTRIBUTE = \"attribute\"           # Data object attribute (i.e., class)\n",
    "NSS_ANNOTATION = \"annotation\"         # Data object annotation (e.g., Neo)\n",
    "NSS_CONTAINER = \"container\"           # For storing container membership access information\n",
    "\n",
    "\n",
    "ALL_NSS = [NSS_FUNCTION, NSS_FILE, NSS_DATA, NSS_SCRIPT, NSS_PARAMETER,\n",
    "           NSS_ATTRIBUTE, NSS_ANNOTATION, NSS_CONTAINER]\n",
    "\n",
    "NAMESPACES = [Namespace(namespace, f\"urn:{NID_ALPACA}:{namespace}:\")\n",
    "              for namespace in ALL_NSS]\n"
   ]
  },
  {
   "cell_type": "code",
   "execution_count": 11,
   "metadata": {},
   "outputs": [],
   "source": [
    "def _find_namespace(uri):\n",
    "    for ns in NAMESPACES:\n",
    "        parts = uri.split(ns.uri)\n",
    "        if len(parts) > 1:\n",
    "            return ns.prefix, parts[1]\n",
    "    return None"
   ]
  },
  {
   "cell_type": "code",
   "execution_count": 12,
   "metadata": {},
   "outputs": [
    {
     "data": {
      "text/plain": [
       "('file', 'sha256:xxxxxx')"
      ]
     },
     "execution_count": 12,
     "metadata": {},
     "output_type": "execute_result"
    }
   ],
   "source": [
    "_find_namespace(\"urn:alpaca:file:sha256:xxxxxx\")"
   ]
  },
  {
   "cell_type": "code",
   "execution_count": 13,
   "metadata": {},
   "outputs": [],
   "source": [
    "def _get_id(uri):\n",
    "    node_id = str(uri)\n",
    "    namespace = _find_namespace(node_id)\n",
    "    if namespace:\n",
    "        return \":\".join(namespace)\n",
    "    return node_id\n",
    "\n",
    "\n",
    "def _get_data(node, node_id, annotations=None, attributes=None, strip_namespace=True):\n",
    "    filter_map = defaultdict(list)\n",
    "    filter_map.update({NSS_ANNOTATION: annotations, NSS_ATTRIBUTE: attributes})\n",
    "    \n",
    "    data = {\"gephi_interval\": []}\n",
    "    namespace, local_part = node_id.split(\":\", 1)\n",
    "    data['type'] = \"activity\" if namespace == NSS_FUNCTION else namespace\n",
    "\n",
    "    info = local_part.split(\":\")\n",
    "    data['data_hash'] = info[-1]\n",
    "    if namespace == NSS_FILE:\n",
    "        data['label'] = \"File\"\n",
    "        data['hash_type'] = info[-2]\n",
    "    elif namespace == NSS_DATA:\n",
    "        data['label'] = info[-2].split(\".\")[-1]\n",
    "        data['Python_name'] = info[-2]\n",
    "    \n",
    "    for attr in node.attributes:\n",
    "        attr_type = str(attr[0].namespace.prefix)\n",
    "        attr_name = attr[0].localpart\n",
    "        attr_value = attr[1]\n",
    "           \n",
    "        if annotations or attributes:\n",
    "             if attr_name in filter_map[attr_type]:\n",
    "                if not strip_namespace:\n",
    "                    attr_name = f\"{attr_type}:{attr_name}\"\n",
    "                if attr_name in data:\n",
    "                    raise ValueError(\"Duplicate property values. Make sure to include the namespaces!\")\n",
    "                data[attr_name] = attr_value\n",
    "                \n",
    "        if namespace == NSS_FILE and attr_type in (\"rdfs\", \"prov\") and attr_name == \"label\":\n",
    "            data[\"File_path\"] = attr_value\n",
    "            \n",
    "    return data\n",
    "    \n",
    "    \n",
    "def _add_gephi_interval(data, order):\n",
    "    if not \"gephi_interval\" in data:\n",
    "        data[\"gephi_interval\"] = []\n",
    "    data[\"gephi_interval\"].append((order, order))\n",
    "    \n",
    "\n",
    "def _get_function_call_node(u_id, v_id, relation):\n",
    "    node_id = v_id if isinstance(relation, ProvUsage) else u_id\n",
    "    \n",
    "    data = {}\n",
    "    for attr in relation.attributes:\n",
    "        attr_type = str(attr[0].namespace.prefix)\n",
    "        attr_name = attr[0].localpart\n",
    "        attr_value = attr[1]\n",
    "\n",
    "        if attr_type == \"prov\" and attr_name == \"value\":\n",
    "            data[\"execution_order\"] = attr_value\n",
    "        elif attr_type == NSS_PARAMETER:\n",
    "            data[f\"{attr_type}:{attr_name}\"] = attr_value\n",
    "\n",
    "    _add_gephi_interval(data, data[\"execution_order\"])\n",
    "            \n",
    "    data[\"type\"] = NSS_FUNCTION\n",
    "    data[\"Python_name\"] = node_id.split(\":\")[-1]\n",
    "    data[\"label\"] = data[\"Python_name\"].split(\".\")[-1]\n",
    "    node_hash = hash((node_id, data[\"execution_order\"]))\n",
    "    return node_hash, data\n",
    "    \n",
    "\n",
    "def _get_membership_relation(relation, graph):\n",
    "    # Retrieve the relevant parameter (index/slice, attribute)\n",
    "    # The entity that is inside the collection has an attribute\n",
    "    # with the namespace `container:`, with the index/slice or\n",
    "    # attribute name information\n",
    "\n",
    "    member = None\n",
    "    for attr in relation.attributes:\n",
    "        if str(attr[0]) == \"prov:entity\":\n",
    "            member = attr[1].uri\n",
    "    \n",
    "    for node in graph.nodes:\n",
    "        if node.identifier.uri == member:\n",
    "            # ProvEntity object of the collection's member\n",
    "            for attr in node.attributes:\n",
    "                container_attribute = str(attr[0])\n",
    "                if container_attribute.startswith(f\"{NSS_CONTAINER}:\"):\n",
    "                    # This is the membership ProvEntity attribute\n",
    "                    # Get the attribute name or index/slice value\n",
    "                    member_type = container_attribute.split(\":\")[-1]\n",
    "                    if member_type == \"attribute\":\n",
    "                        return f\".{attr[1]}\"\n",
    "                    else:\n",
    "                        return f\"[{attr[1]}]\"\n",
    "    \n",
    "def _transform_graph(graph, annotations=None, attributes=None, strip_namespace=True):\n",
    "    # Transform a NetworkX graph obtained from the PROV data, so that the visualization\n",
    "    # is simplified. A new `nx.DiGraph` object is created and returned\n",
    "    # Annotations and attributes of the entities stored in the PROV file can be filtered\n",
    "    \n",
    "    transformed = nx.DiGraph()\n",
    "    \n",
    "    # Copy all the nodes, changing the URI to string and extracting the requested attributes/annotations as node data\n",
    "    for node in graph.nodes:\n",
    "        node_id = _get_id(node.identifier.uri)\n",
    "        data = _get_data(node, node_id, annotations=annotations, attributes=attributes, strip_namespace=strip_namespace)\n",
    "        transformed.add_node(node_id, **data)\n",
    "        \n",
    "    # Add all the edges\n",
    "    # If membership, the direction must be reversed\n",
    "    # If usage/generation, create additional nodes for the function call, with the parameters as node data\n",
    "    # A membership flag is created, as this will be used\n",
    "    for u, v, data in graph.edges(data=True):\n",
    "        u_id = _get_id(u.identifier.uri)\n",
    "        v_id = _get_id(v.identifier.uri)\n",
    "        \n",
    "        relation = data['relation']\n",
    "        if isinstance(relation, ProvMembership):\n",
    "            membership_relation = _get_membership_relation(relation, graph)\n",
    "            transformed.add_edge(v_id, u_id, membership=True, membership_relation=membership_relation)\n",
    "        elif isinstance(relation, (ProvUsage, ProvGeneration)):    \n",
    "            node_id, node_data = _get_function_call_node(u_id, v_id, relation)\n",
    "            if not node_id in graph.nodes:\n",
    "                transformed.add_node(node_id, **node_data)\n",
    "\n",
    "            if isinstance(relation, ProvUsage):\n",
    "                transformed.add_edge(u_id, node_id, membership=False)\n",
    "                _add_gephi_interval(transformed.nodes[u_id], node_data['execution_order'])\n",
    "            else:\n",
    "                transformed.add_edge(node_id, v_id, membership=False)\n",
    "                _add_gephi_interval(transformed.nodes[v_id], node_data['execution_order'])\n",
    "        \n",
    "    # Remove old ProvActivity nodes that are not needed anymore (unconnected)\n",
    "    # They were set with the `type` as `activity` in the node data dictionary\n",
    "    filter_nodes = [node for node, data in transformed.nodes(data=True) if data['type'] == \"activity\"]\n",
    "    transformed.remove_nodes_from(filter_nodes)\n",
    "   \n",
    "    return transformed"
   ]
  },
  {
   "cell_type": "code",
   "execution_count": 14,
   "metadata": {},
   "outputs": [],
   "source": [
    "def _find_missing_intervals(graph, node=None):\n",
    "    # Find all membership nodes and create a subgraph with the ancestors and successors\n",
    "    # We will have all the spots where the execution counter was not set\n",
    "    # Then we build, for each path from the bottom to the top, the full list with intervals at each node\n",
    "    processed_nodes = []\n",
    "    subgraph_nodes = []\n",
    "    for u, v, data in graph.edges(data=True):\n",
    "        if data['membership']:\n",
    "            subgraph_nodes.extend([u, v])\n",
    "            \n",
    "    subgraph = graph.subgraph(subgraph_nodes).reverse(copy=True)\n",
    "    \n",
    "    # We do progressively, changing the successors of the root nodes\n",
    "    # each time, and generating a new subgraph until no nodes remain\n",
    "    while not nx.is_empty(subgraph):\n",
    "        root_nodes = [node for node in subgraph.nodes if subgraph.in_degree(node) == 0]\n",
    "        for root in root_nodes:\n",
    "            successors = subgraph.successors(root)\n",
    "            interval = subgraph.nodes[root][\"gephi_interval\"]\n",
    "            for succ in successors:\n",
    "                graph.nodes[succ][\"gephi_interval\"].extend(interval)\n",
    "\n",
    "        processed_nodes.extend(root_nodes)\n",
    "        subgraph_nodes = []\n",
    "        for u, v, data in graph.edges(data=True):\n",
    "            if data['membership'] and v not in processed_nodes:\n",
    "                subgraph_nodes.extend([u, v])\n",
    "            \n",
    "        subgraph = graph.subgraph(subgraph_nodes).reverse(copy=True)\n",
    "            \n",
    "\n",
    "def _generate_interval_strings(graph):\n",
    "    for node, data in graph.nodes(data=True):\n",
    "        data[\"gephi_interval\"].sort(key=lambda tup: tup[0])\n",
    "        segments = \";\".join([f\"[{start:.1f},{stop:.1f}]\" for start, stop in data[\"gephi_interval\"]])\n",
    "        interval = f\"<{segments}>\"\n",
    "        data[\"Time Interval\"] = interval\n",
    "        data.pop(\"gephi_interval\")"
   ]
  },
  {
   "cell_type": "code",
   "execution_count": 15,
   "metadata": {},
   "outputs": [],
   "source": [
    "prov_graph = _transform_graph(raw_prov, attributes=('dtype', 'shape', 'name', 'units', 'name', 'description', 'file_origin', 't_start', 't_stop'), annotations=('subject_name', 'channel_names'), strip_namespace=True)\n",
    "_find_missing_intervals(prov_graph)\n",
    "_generate_interval_strings(prov_graph)"
   ]
  },
  {
   "cell_type": "code",
   "execution_count": 16,
   "metadata": {},
   "outputs": [
    {
     "name": "stdout",
     "output_type": "stream",
     "text": [
      "object:neo.core.block.Block:0253b291f2ebbe486806446673c3039f57020bd0 {'type': 'object', 'data_hash': '0253b291f2ebbe486806446673c3039f57020bd0', 'label': 'Block', 'Python_name': 'neo.core.block.Block', 'description': 'Block of reach-to-grasp project data from Blackrock file set.', 'name': 'Reachgrasp Recording Data Block', 'file_origin': '/home/koehler/datafiles/multielectrode_grasp/datasets/i140703-001', 'subject_name': \"['monkey_N']\", 'Time Interval': '<[1.0,1.0];[2.0,2.0];[3.0,3.0];[4.0,4.0]>'}\n",
      "object:numpy.float64:eb499820c46fbcedfafd8957c169073b13b52ac4 {'type': 'object', 'data_hash': 'eb499820c46fbcedfafd8957c169073b13b52ac4', 'label': 'float64', 'Python_name': 'numpy.float64', 'shape': '()', 'dtype': 'float64', 'Time Interval': '<[7.0,7.0]>'}\n",
      "object:numpy.ndarray:1547598c7eaddc0bb9926f0d38483280953de19d {'type': 'object', 'data_hash': '1547598c7eaddc0bb9926f0d38483280953de19d', 'label': 'ndarray', 'Python_name': 'numpy.ndarray', 'shape': '(5,)', 'dtype': 'float64', 'Time Interval': '<[6.0,6.0]>'}\n",
      "object:quantities.quantity.Quantity:621dde740ed3c7eb68173e80336591799474afee {'type': 'object', 'data_hash': '621dde740ed3c7eb68173e80336591799474afee', 'label': 'Quantity', 'Python_name': 'quantities.quantity.Quantity', 'dtype': 'float64', 'units': '1.0 (1.0/30000 * s)', 'shape': '(5814,)', 'Time Interval': '<[4.0,4.0]>'}\n",
      "object:quantities.quantity.Quantity:7ad6fe934cf20fed8a785ea432ca196028c404d6 {'type': 'object', 'data_hash': '7ad6fe934cf20fed8a785ea432ca196028c404d6', 'label': 'Quantity', 'Python_name': 'quantities.quantity.Quantity', 'dtype': 'float64', 'shape': '(944,)', 'units': '1.0 (1.0/30000 * s)', 'Time Interval': '<[2.0,2.0]>'}\n",
      "object:quantities.quantity.Quantity:e5909377ec8544c10a210494e77a0fe76045fba2 {'type': 'object', 'data_hash': 'e5909377ec8544c10a210494e77a0fe76045fba2', 'label': 'Quantity', 'Python_name': 'quantities.quantity.Quantity', 'shape': '()', 'dtype': 'float64', 'units': '1.0 1/(1.0/30000 * s)', 'Time Interval': '<[3.0,3.0]>'}\n",
      "object:builtins.list:1412b16ccbcac9d2ac2b7ee0e6cbe84edc2bd312 {'type': 'object', 'data_hash': '1412b16ccbcac9d2ac2b7ee0e6cbe84edc2bd312', 'label': 'list', 'Python_name': 'builtins.list', 'Time Interval': '<[2.0,2.0];[3.0,3.0];[4.0,4.0]>'}\n",
      "object:builtins.list:c2aaec810a4e8fff49247be8b7ac72d88b4c0de4 {'type': 'object', 'data_hash': 'c2aaec810a4e8fff49247be8b7ac72d88b4c0de4', 'label': 'list', 'Python_name': 'builtins.list', 'Time Interval': '<[2.0,2.0];[3.0,3.0];[4.0,4.0]>'}\n",
      "object:neo.core.segment.Segment:7be4d879e98f6ad829c5701d0353c7990bbedbe1 {'type': 'object', 'data_hash': '7be4d879e98f6ad829c5701d0353c7990bbedbe1', 'label': 'Segment', 'Python_name': 'neo.core.segment.Segment', 'name': 'Segment 0', 't_stop': '30096367.0 (1.0/30000 * s)', 'description': 'Segment containing data from t_min to t_max.', 'file_origin': '/home/koehler/datafiles/multielectrode_grasp/datasets/i140703-001', 't_start': '0.0 (1.0/30000 * s)', 'Time Interval': '<[2.0,2.0];[3.0,3.0];[4.0,4.0]>'}\n",
      "file:sha256:2babda3c3c09f0d1bd4214b3e7cfeb6d3fd837dcd5ff704a0812a37503540f9a {'type': 'file', 'data_hash': '2babda3c3c09f0d1bd4214b3e7cfeb6d3fd837dcd5ff704a0812a37503540f9a', 'label': 'File', 'hash_type': 'sha256', 'File_path': '/home/koehler/datafiles/multielectrode_grasp/datasets/i140703-001.nev', 'Time Interval': '<[1.0,1.0]>'}\n",
      "object:builtins.list:c5bb7895dc4c05e1317e65227a6ba83a1dab5d09 {'type': 'object', 'data_hash': 'c5bb7895dc4c05e1317e65227a6ba83a1dab5d09', 'label': 'list', 'Python_name': 'builtins.list', 'Time Interval': '<[5.0,5.0]>'}\n",
      "object:neo.core.spiketrain.SpikeTrain:39a2dcca0582d4721cbc4f0fe9ff786a790da987 {'type': 'object', 'data_hash': '39a2dcca0582d4721cbc4f0fe9ff786a790da987', 'label': 'SpikeTrain', 'Python_name': 'neo.core.spiketrain.SpikeTrain', 'shape': '(5815,)', 'units': '1.0 (1.0/30000 * s)', 'file_origin': '/home/koehler/datafiles/multielectrode_grasp/datasets/i140703-001-03.nev', 'dtype': 'float64', 't_start': '0.0 (1.0/30000 * s)', 't_stop': '30096367.0 (1.0/30000 * s)', 'description': 'SpikeTrain from channel: 10, unit: 1', 'name': 'Unit 10001', 'Time Interval': '<[4.0,4.0]>'}\n",
      "object:numpy.ndarray:1faaa03fd685a588cb3e4ce7d9f3abe2347e5d90 {'type': 'object', 'data_hash': '1faaa03fd685a588cb3e4ce7d9f3abe2347e5d90', 'label': 'ndarray', 'Python_name': 'numpy.ndarray', 'shape': '(6,)', 'dtype': 'float64', 'Time Interval': '<[5.0,5.0];[6.0,6.0];[7.0,7.0]>'}\n",
      "object:neo.core.spiketrain.SpikeTrain:8a10b819cf850f7942c514ee06f0bc37e9309040 {'type': 'object', 'data_hash': '8a10b819cf850f7942c514ee06f0bc37e9309040', 'label': 'SpikeTrain', 'Python_name': 'neo.core.spiketrain.SpikeTrain', 'dtype': 'float64', 'file_origin': '/home/koehler/datafiles/multielectrode_grasp/datasets/i140703-001-03.nev', 'description': 'SpikeTrain from channel: 10, unit: unclassified', 't_start': '0.0 (1.0/30000 * s)', 'shape': '(945,)', 'name': 'Unit 10000', 'units': '1.0 (1.0/30000 * s)', 't_stop': '30096367.0 (1.0/30000 * s)', 'Time Interval': '<[2.0,2.0];[3.0,3.0]>'}\n",
      "2798914223848789454 {'execution_order': 1, 'type': 'function', 'Python_name': '__main__.load_data', 'label': 'load_data', 'Time Interval': '<[1.0,1.0]>'}\n",
      "-1321490763280929650 {'execution_order': 5, 'type': 'function', 'Python_name': 'numpy.array', 'label': 'array', 'Time Interval': '<[5.0,5.0]>'}\n",
      "-5559170594429074416 {'parameter:axis': 0, 'execution_order': 4, 'type': 'function', 'Python_name': 'elephant.statistics.isi', 'label': 'isi', 'Time Interval': '<[4.0,4.0]>'}\n",
      "4179619385184966037 {'parameter:t_stop': 'None', 'parameter:t_start': 'None', 'execution_order': 7, 'parameter:axis': 'None', 'type': 'function', 'Python_name': 'elephant.statistics.mean_firing_rate', 'label': 'mean_firing_rate', 'Time Interval': '<[7.0,7.0]>'}\n",
      "-5559170594426909366 {'execution_order': 6, 'parameter:axis': -1, 'type': 'function', 'Python_name': 'elephant.statistics.isi', 'label': 'isi', 'Time Interval': '<[6.0,6.0]>'}\n",
      "4179619385189296137 {'parameter:t_start': 'None', 'parameter:axis': 'None', 'execution_order': 3, 'parameter:t_stop': 'None', 'type': 'function', 'Python_name': 'elephant.statistics.mean_firing_rate', 'label': 'mean_firing_rate', 'Time Interval': '<[3.0,3.0]>'}\n",
      "-5559170594422579266 {'execution_order': 2, 'parameter:axis': 0, 'type': 'function', 'Python_name': 'elephant.statistics.isi', 'label': 'isi', 'Time Interval': '<[2.0,2.0]>'}\n"
     ]
    }
   ],
   "source": [
    "for n, data in prov_graph.nodes(data=True):\n",
    "    print(n, data)"
   ]
  },
  {
   "cell_type": "code",
   "execution_count": 17,
   "metadata": {},
   "outputs": [
    {
     "name": "stdout",
     "output_type": "stream",
     "text": [
      "['object:neo.core.block.Block:0253b291f2ebbe486806446673c3039f57020bd0', 'object:builtins.list:1412b16ccbcac9d2ac2b7ee0e6cbe84edc2bd312'] {'membership': True, 'membership_relation': '.segments'}\n",
      "['object:builtins.list:1412b16ccbcac9d2ac2b7ee0e6cbe84edc2bd312', 'object:neo.core.segment.Segment:7be4d879e98f6ad829c5701d0353c7990bbedbe1'] {'membership': True, 'membership_relation': '[0]'}\n",
      "['object:builtins.list:c2aaec810a4e8fff49247be8b7ac72d88b4c0de4', 'object:neo.core.spiketrain.SpikeTrain:39a2dcca0582d4721cbc4f0fe9ff786a790da987'] {'membership': True, 'membership_relation': '[1]'}\n",
      "['object:builtins.list:c2aaec810a4e8fff49247be8b7ac72d88b4c0de4', 'object:neo.core.spiketrain.SpikeTrain:8a10b819cf850f7942c514ee06f0bc37e9309040'] {'membership': True, 'membership_relation': '[0]'}\n",
      "['object:neo.core.segment.Segment:7be4d879e98f6ad829c5701d0353c7990bbedbe1', 'object:builtins.list:c2aaec810a4e8fff49247be8b7ac72d88b4c0de4'] {'membership': True, 'membership_relation': '.spiketrains'}\n",
      "['file:sha256:2babda3c3c09f0d1bd4214b3e7cfeb6d3fd837dcd5ff704a0812a37503540f9a', 2798914223848789454] {'membership': False}\n",
      "['object:builtins.list:c5bb7895dc4c05e1317e65227a6ba83a1dab5d09', -1321490763280929650] {'membership': False}\n",
      "['object:neo.core.spiketrain.SpikeTrain:39a2dcca0582d4721cbc4f0fe9ff786a790da987', -5559170594429074416] {'membership': False}\n",
      "['object:numpy.ndarray:1faaa03fd685a588cb3e4ce7d9f3abe2347e5d90', 4179619385184966037] {'membership': False}\n",
      "['object:numpy.ndarray:1faaa03fd685a588cb3e4ce7d9f3abe2347e5d90', -5559170594426909366] {'membership': False}\n",
      "['object:neo.core.spiketrain.SpikeTrain:8a10b819cf850f7942c514ee06f0bc37e9309040', 4179619385189296137] {'membership': False}\n",
      "['object:neo.core.spiketrain.SpikeTrain:8a10b819cf850f7942c514ee06f0bc37e9309040', -5559170594422579266] {'membership': False}\n",
      "[2798914223848789454, 'object:neo.core.block.Block:0253b291f2ebbe486806446673c3039f57020bd0'] {'membership': False}\n",
      "[-1321490763280929650, 'object:numpy.ndarray:1faaa03fd685a588cb3e4ce7d9f3abe2347e5d90'] {'membership': False}\n",
      "[-5559170594429074416, 'object:quantities.quantity.Quantity:621dde740ed3c7eb68173e80336591799474afee'] {'membership': False}\n",
      "[4179619385184966037, 'object:numpy.float64:eb499820c46fbcedfafd8957c169073b13b52ac4'] {'membership': False}\n",
      "[-5559170594426909366, 'object:numpy.ndarray:1547598c7eaddc0bb9926f0d38483280953de19d'] {'membership': False}\n",
      "[4179619385189296137, 'object:quantities.quantity.Quantity:e5909377ec8544c10a210494e77a0fe76045fba2'] {'membership': False}\n",
      "[-5559170594422579266, 'object:quantities.quantity.Quantity:7ad6fe934cf20fed8a785ea432ca196028c404d6'] {'membership': False}\n"
     ]
    }
   ],
   "source": [
    "for *e, data in prov_graph.edges(data=True):\n",
    "    print(e, data)"
   ]
  },
  {
   "cell_type": "code",
   "execution_count": 18,
   "metadata": {},
   "outputs": [],
   "source": [
    "nx.write_graphml(prov_graph, \"/home/koehler/Desktop/teste.graphml\")\n",
    "nx.write_gexf(prov_graph, \"/home/koehler/Desktop/teste.gexf\")"
   ]
  },
  {
   "cell_type": "code",
   "execution_count": 19,
   "metadata": {},
   "outputs": [
    {
     "data": {
      "image/png": "[encoded data removed]",
      "text/plain": [
       "<Figure size 432x288 with 1 Axes>"
      ]
     },
     "metadata": {},
     "output_type": "display_data"
    }
   ],
   "source": [
    "nx.draw(prov_graph)"
   ]
  },
  {
   "cell_type": "code",
   "execution_count": 20,
   "metadata": {},
   "outputs": [
    {
     "data": {
      "text/plain": [
       "True"
      ]
     },
     "execution_count": 20,
     "metadata": {},
     "output_type": "execute_result"
    }
   ],
   "source": [
    "C5 = nx.cycle_graph(5)\n",
    "C4 = nx.cycle_graph(4)\n",
    "M = nx.contracted_edge(C5, (0, 1), self_loops=False)\n",
    "nx.is_isomorphic(M, C4)"
   ]
  },
  {
   "cell_type": "code",
   "execution_count": 21,
   "metadata": {},
   "outputs": [
    {
     "name": "stdout",
     "output_type": "stream",
     "text": [
      "0\n",
      "2\n",
      "3\n",
      "4\n"
     ]
    }
   ],
   "source": [
    "for node in M.nodes:\n",
    "    print(node)"
   ]
  },
  {
   "cell_type": "code",
   "execution_count": null,
   "metadata": {},
   "outputs": [],
   "source": []
  }
 ],
 "metadata": {
  "kernelspec": {
   "display_name": "elephant",
   "language": "python",
   "name": "elephant"
  },
  "language_info": {
   "codemirror_mode": {
    "name": "ipython",
    "version": 3
   },
   "file_extension": ".py",
   "mimetype": "text/x-python",
   "name": "python",
   "nbconvert_exporter": "python",
   "pygments_lexer": "ipython3",
   "version": "3.7.5"
  }
 },
 "nbformat": 4,
 "nbformat_minor": 4
}
