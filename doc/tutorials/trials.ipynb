{
 "cells": [
  {
   "cell_type": "markdown",
   "metadata": {},
   "source": [
    "# Trials\n",
    "\n",
    "This notebook provides a tutorial on how to use the `Trials` classes in Elephant for handling neuroscience data structured in repeated trials. The `Trials` classes provide a unified API to access and manipulate trial data, regardless of whether the data is stored in `neo.Block` or as lists of lists."
   ]
  },
  {
   "cell_type": "markdown",
   "metadata": {},
   "source": [
    "## Introduction\n",
    "\n",
    "In neuroscience, trials are repeated experimental runs that help in estimating various quantities from the data. The Trials class in Elephant provides a structured way to handle and access trial data, irrespective of how it is stored. This overview will cover the basic structure and functionalities of the Trials class and its subclasses."
   ]
  },
  {
   "cell_type": "markdown",
   "metadata": {},
   "source": [
    "## Imports and Setup\n",
    "\n",
    "First, we need to import the necessary modules and set up some example data."
   ]
  },
  {
   "cell_type": "code",
   "execution_count": 1,
   "metadata": {},
   "outputs": [],
   "source": [
    "import numpy as np\n",
    "import neo\n",
    "from neo.core import Block, Segment, SpikeTrain, AnalogSignal\n",
    "from quantities import ms, mV, Hz\n",
    "from elephant.trials import TrialsFromBlock, TrialsFromLists\n",
    "from elephant.datasets import download_datasets\n",
    "\n",
    "# Helper function to create example spike trains and analog signals\n",
    "def create_example_data():\n",
    "    spike_times = [np.array([10, 20, 30]) * ms, np.array([15, 25, 35]) * ms]\n",
    "    spike_trains = [SpikeTrain(spike_time, t_start=0*ms, t_stop=40*ms) for spike_time in spike_times]\n",
    "    analog_signals = [AnalogSignal(np.random.randn(1000), sampling_rate=1000 * Hz, units=mV) for _ in range(2)]\n",
    "    return spike_trains, analog_signals\n"
   ]
  },
  {
   "cell_type": "markdown",
   "metadata": {},
   "source": [
    "# Download example data"
   ]
  },
  {
   "cell_type": "code",
   "execution_count": 2,
   "metadata": {},
   "outputs": [
    {
     "name": "stderr",
     "output_type": "stream",
     "text": [
      "/home/kern/git/inm-6/elephant/elephant/datasets.py:154: UserWarning: No corresponding version of elephant-data found.\n",
      "Elephant version: 1.2.0b1. Data URL:https://gin.g-node.org/NeuralEnsemble/elephant-data/raw/v1.2.0b1/README.md, error: HTTP Error 404: Not Found.\n",
      "Using elephant-data latest instead (This is expected for elephant development versions).\n",
      "  warnings.warn(f\"No corresponding version of elephant-data found.\\n\"\n",
      "Downloading https://datasets.python-elephant.org/raw/master/tutorials/tutorial_unitary_event_analysis/data/dataset-1.nix to '/tmp/elephant/dataset-1.nix': 1.69MB [00:02, 804kB/s] \n"
     ]
    }
   ],
   "source": [
    "# Download data\n",
    "repo_path='tutorials/tutorial_unitary_event_analysis/data/dataset-1.nix'\n",
    "filepath=download_datasets(repo_path)\n",
    "\n",
    "# Load data\n",
    "io = neo.io.NixIO(f\"{filepath}\",'ro')\n",
    "block = io.read_block()"
   ]
  },
  {
   "cell_type": "markdown",
   "metadata": {},
   "source": [
    "## Example 1: Using `TrialsFromBlock`\n",
    "\n",
    "In this example, we create a `neo.Block` containing multiple `neo.Segment` objects, each representing a trial. We then use the `TrialsFromBlock` class to access and manipulate the trial data,\n",
    "this subclass handles trial data stored in a `neo.Block`, where each `neo.Segment` within the block represents a trial."
   ]
  },
  {
   "cell_type": "code",
   "execution_count": 3,
   "metadata": {},
   "outputs": [
    {
     "name": "stdout",
     "output_type": "stream",
     "text": [
      "Number of trials: 36\n",
      "Number of spike trains in each trial: [2, 2, 2, 2, 2, 2, 2, 2, 2, 2, 2, 2, 2, 2, 2, 2, 2, 2, 2, 2, 2, 2, 2, 2, 2, 2, 2, 2, 2, 2, 2, 2, 2, 2, 2, 2]\n",
      "Number of analog signals in each trial: [0, 0, 0, 0, 0, 0, 0, 0, 0, 0, 0, 0, 0, 0, 0, 0, 0, 0, 0, 0, 0, 0, 0, 0, 0, 0, 0, 0, 0, 0, 0, 0, 0, 0, 0, 0]\n",
      "Trial 1 Segment: <neo.core.segment.Segment object at 0x7f210c179520>\n",
      "All spike trains from trial 2: [<SpikeTrain(array([   4.,   45.,   85.,  123.,  156.,  185.,  226.,  274.,  296.,\n",
      "        323.,  348.,  371.,  404.,  471.,  499.,  530.,  560.,  581.,\n",
      "        601.,  626.,  654.,  700.,  727.,  762.,  792.,  805.,  827.,\n",
      "        828.,  847.,  869.,  899.,  920.,  933.,  972., 1001., 1023.,\n",
      "       1031., 1051., 1086., 1152., 1172., 1176., 1199., 1223., 1245.,\n",
      "       1273., 1304., 1379., 1400., 1401., 1417., 1424., 1444., 1449.,\n",
      "       1483., 1546., 1564., 1583., 1588., 1615., 1629., 1660., 1683.,\n",
      "       1706., 1732., 1774., 1816., 1834., 1849., 1884., 1905., 2030.]) * ms, [0.0 ms, 2100.0 ms])>, <SpikeTrain(array([  54.,  155.,  183.,  251.,  341.,  434.,  494.,  613.,  746.,\n",
      "       1201., 1641.]) * ms, [0.0 ms, 2100.0 ms])>]\n"
     ]
    }
   ],
   "source": [
    "# Create a TrialsFromBlock instance\n",
    "trials_from_block = TrialsFromBlock(block)\n",
    "\n",
    "# Access trial data\n",
    "print(f'Number of trials: {trials_from_block.n_trials}')\n",
    "print(f'Number of spike trains in each trial: {trials_from_block.n_spiketrains_trial_by_trial}')\n",
    "print(f'Number of analog signals in each trial: {trials_from_block.n_analogsignals_trial_by_trial}')\n",
    "\n",
    "# Get a specific trial as a Segment\n",
    "trial_1_segment = trials_from_block.get_trial_as_segment(1)\n",
    "print(f'Trial 1 Segment: {trial_1_segment}')\n",
    "\n",
    "# Get all spike trains from trial\n",
    "all_spike_trains_trial_2 = trials_from_block.get_spiketrains_from_trial_as_list(trial_id=1)\n",
    "print(f'All spike trains from trial 2: {all_spike_trains_trial_2}')"
   ]
  },
  {
   "cell_type": "markdown",
   "metadata": {},
   "source": [
    "## Example 2: Using `TrialsFromLists`\n",
    "\n",
    "The `TrialsFromLists` handles trial data stored as lists of lists, where each inner list contains neo.SpikeTrain and neo.AnalogSignal objects representing a trial. In this example, we create a list of lists, where each inner list contains `neo.SpikeTrain` and `neo.AnalogSignal` objects representing a trial. We then use the `TrialsFromLists` class to access and manipulate the trial data. "
   ]
  },
  {
   "cell_type": "code",
   "execution_count": 4,
   "metadata": {},
   "outputs": [
    {
     "name": "stdout",
     "output_type": "stream",
     "text": [
      "Number of trials: 3\n",
      "Number of spike trains in each trial: [2, 2, 2]\n",
      "Number of analog signals in each trial: [2, 2, 2]\n",
      "Trial 1 Segment: <neo.core.segment.Segment object at 0x7f20b8c661b0>\n",
      "All trials Block: <neo.core.block.Block object at 0x7f210c1b54f0>\n",
      "Number of segments in trials_list_from_lists: 3\n",
      "Trial 0 Segment: <neo.core.segment.Segment object at 0x7f20b9409700>\n",
      "    Spike train 0 Spike train: [10. 20. 30.] ms\n",
      "    Spike train 1 Spike train: [15. 25. 35.] ms\n",
      "    Analog signal 0 Analog signal: [-0.35546363  1.69106607 -1.3224601   0.13145046] mV\n",
      "    Analog signal 1 Analog signal: [ 0.58983451 -1.21403348 -0.2027809   0.27795667] mV\n",
      "Trial 1 Segment: <neo.core.segment.Segment object at 0x7f210c1cffb0>\n",
      "    Spike train 0 Spike train: [10. 20. 30.] ms\n",
      "    Spike train 1 Spike train: [15. 25. 35.] ms\n",
      "    Analog signal 0 Analog signal: [-0.35546363  1.69106607 -1.3224601   0.13145046] mV\n",
      "    Analog signal 1 Analog signal: [ 0.58983451 -1.21403348 -0.2027809   0.27795667] mV\n",
      "Trial 2 Segment: <neo.core.segment.Segment object at 0x7f210c1e7440>\n",
      "    Spike train 0 Spike train: [10. 20. 30.] ms\n",
      "    Spike train 1 Spike train: [15. 25. 35.] ms\n",
      "    Analog signal 0 Analog signal: [-0.35546363  1.69106607 -1.3224601   0.13145046] mV\n",
      "    Analog signal 1 Analog signal: [ 0.58983451 -1.21403348 -0.2027809   0.27795667] mV\n"
     ]
    }
   ],
   "source": [
    "# Create example data\n",
    "spike_times, analog_signals = create_example_data()\n",
    "\n",
    "# Create a list of lists representing trials\n",
    "list_of_trials = []\n",
    "for i in range(3):\n",
    "    trial = []\n",
    "    for spike_time in spike_times:\n",
    "        trial.append(SpikeTrain(spike_time, t_start=0*ms, t_stop=40*ms))\n",
    "    for analog_signal in analog_signals:\n",
    "        trial.append(analog_signal)\n",
    "    list_of_trials.append(trial)\n",
    "\n",
    "# Create a TrialsFromLists instance\n",
    "trials_from_lists = TrialsFromLists(list_of_trials)\n",
    "\n",
    "# Access trial data\n",
    "print(f'Number of trials: {trials_from_lists.n_trials}')\n",
    "print(f'Number of spike trains in each trial: {trials_from_lists.n_spiketrains_trial_by_trial}')\n",
    "print(f'Number of analog signals in each trial: {trials_from_lists.n_analogsignals_trial_by_trial}')\n",
    "\n",
    "# Get a specific trial as a Segment\n",
    "trial_1_segment = trials_from_lists.get_trial_as_segment(1)\n",
    "print(f'Trial 1 Segment: {trial_1_segment}')\n",
    "\n",
    "# Get all trials as a Block\n",
    "all_spike_trains_trial_2 = trials_from_lists.get_trials_as_block()\n",
    "print(f'All trials Block: {all_spike_trains_trial_2}')\n",
    "\n",
    "# Using TrialsFromLists\n",
    "trials_as_list = trials_from_lists.get_trials_as_list()\n",
    "print(f'Number of segments in trials_list_from_lists: {len(trials_as_list)}')\n",
    "for i, segment in enumerate(trials_as_list):\n",
    "    print(f'Trial {i} Segment: {segment}')\n",
    "    for i, spike_train in enumerate(segment.spiketrains):\n",
    "        print(f'    Spike train {i} Spike train: {spike_train}')\n",
    "    for i, analog_signal in enumerate(segment.analogsignals):\n",
    "        print(f'    Analog signal {i} Analog signal: {analog_signal[:4].flatten()}')"
   ]
  }
 ],
 "metadata": {
  "kernelspec": {
   "display_name": "Python 3",
   "language": "python",
   "name": "python3"
  },
  "language_info": {
   "codemirror_mode": {
    "name": "ipython",
    "version": 3
   },
   "file_extension": ".py",
   "mimetype": "text/x-python",
   "name": "python",
   "nbconvert_exporter": "python",
   "pygments_lexer": "ipython3",
   "version": "3.12.5"
  }
 },
 "nbformat": 4,
 "nbformat_minor": 4
}
