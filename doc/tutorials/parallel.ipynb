{
 "cells": [
  {
   "cell_type": "markdown",
   "metadata": {},
   "source": [
    "# Parallel\n",
    "\n",
    "The executed version of this tutorial is at https://elephant.readthedocs.io/en/latest/tutorials/parallel.html\n",
    "\n",
    "`elephant.parallel` module provides a simple interface to parallelize multiple calls to any user-specified function. The typical use case is calling a function many times with different parameters.\n",
    "\n",
    "## Available executors\n",
    "\n",
    "`elephant.parallel` has 3 interfaces to choose from, depending whether the user has a laptop/PC or the computation is being done on a cluster machine with many nodes and MPI installed.\n",
    "\n",
    "* `ProcessPoolExecutor` is a wrapper of python built-in `concurrent.futures.ProcessPoolExecutor`. This is recommended to run on laptops and personal computers;\n",
    "* `MPIPoolExecutor` is a wrapper of `mpi4py.futures.MPIPoolExecutor`. This is recommened to run on cluster nodes with MPI-2 installed;\n",
    "* `MPICommExecutor` is a wrapper of `mpi4py.futures.MPICommExecutor`. This is a legacy MPI-1 class for `MPIPoolExecutor` and is recommended to run only on cluster nodes which do not support MPI-2 protocol.\n",
    "\n",
    "Besides these three, a `SingleProcess` executor is available as a fall-back option to test executions in a single process (no speedup).\n",
    "\n",
    "All listed above classes has the same API and can be used interchangeably.\n",
    "\n",
    "## How to use\n",
    "\n",
    "Let's say you want to call some function `my_function()` for each element in a list `iterables_list` like so:\n",
    "\n",
    "(eq. 1) `results = [my_function(arg) for arg in iterables_list]`.\n",
    "\n",
    "If `my_function`'s implementaion does not use parallelization, you can obtain the results by computing `my_function()` assynchronously for each element in arguments list. Then the result of eq. 1 is equivalent to\n",
    "\n",
    "(eq. 2) `results = Executor().execute(my_function, iterables_list)`,\n",
    "\n",
    "where `Executor` can be any of listed above available executors. For more information about parallel executors in python refer to https://docs.python.org/3/library/concurrent.futures.html."
   ]
  },
  {
   "cell_type": "markdown",
   "metadata": {},
   "source": [
    "## Examples\n",
    "\n",
    "### Example 1. Computing the mean firing rate\n",
    "\n",
    "`mean_firing_rate()` function in `elephant.statistics` works with one spiketrain as input. Let's parallelize it by computing firing rates of 8 random spiketrains."
   ]
  },
  {
   "cell_type": "code",
   "execution_count": null,
   "metadata": {},
   "outputs": [],
   "source": [
    "import numpy as np\n",
    "import quantities as pq\n",
    "\n",
    "from elephant.parallel import SingleProcess, MPIPoolExecutor, ProcessPoolExecutor, MPICommExecutor\n",
    "from elephant.spike_train_generation import homogeneous_poisson_process\n",
    "from elephant.statistics import mean_firing_rate, time_histogram"
   ]
  },
  {
   "cell_type": "code",
   "execution_count": null,
   "metadata": {},
   "outputs": [],
   "source": [
    "rate = 10 * pq.Hz\n",
    "spiketrains = [homogeneous_poisson_process(rate, t_stop=10*pq.s) for _ in range(8)]"
   ]
  },
  {
   "cell_type": "markdown",
   "metadata": {},
   "source": [
    "We start with a sanity check by computing the mean firing rate of the spiketrains with `SingleProcess` executor, which is run in the main process with no parallelization."
   ]
  },
  {
   "cell_type": "code",
   "execution_count": null,
   "metadata": {},
   "outputs": [],
   "source": [
    "firing_rate0 = SingleProcess().execute(mean_firing_rate, spiketrains)\n",
    "firing_rate0"
   ]
  },
  {
   "cell_type": "markdown",
   "metadata": {},
   "source": [
    "Let's verify that all three other executors produce the same result, but now with parallelization turned on."
   ]
  },
  {
   "cell_type": "code",
   "execution_count": null,
   "metadata": {},
   "outputs": [],
   "source": [
    "firing_rate1 = ProcessPoolExecutor().execute(mean_firing_rate, spiketrains)\n",
    "firing_rate1"
   ]
  },
  {
   "cell_type": "code",
   "execution_count": null,
   "metadata": {},
   "outputs": [],
   "source": [
    "firing_rate2 = MPIPoolExecutor().execute(mean_firing_rate, spiketrains)\n",
    "firing_rate2"
   ]
  },
  {
   "cell_type": "code",
   "execution_count": null,
   "metadata": {},
   "outputs": [],
   "source": [
    "firing_rate3 = MPICommExecutor().execute(mean_firing_rate, spiketrains)\n",
    "firing_rate3"
   ]
  },
  {
   "cell_type": "markdown",
   "metadata": {},
   "source": [
    "All executors produce identical output, as intended."
   ]
  },
  {
   "cell_type": "markdown",
   "metadata": {},
   "source": [
    "### Example 2. Custom functions and positional argument\n",
    "\n",
    "Sometimes you might want to iterate over the second (or third, etc.) argument of a function. To do this, you need to create a custom function that passes its first input argument into the right position of the original function. Below is an example of how to compute time histograms of spiketrains with different `binsize`s (the second argument)."
   ]
  },
  {
   "cell_type": "code",
   "execution_count": null,
   "metadata": {},
   "outputs": [],
   "source": [
    "# step 1: initialize the first argument - spiketrains\n",
    "spiketrains = [homogeneous_poisson_process(rate, t_stop=10*pq.s) for _ in range(8)]\n",
    "\n",
    "# step 2: define your custom function\n",
    "def my_custom_function(binsize):\n",
    "    # specify all custom key-word options here\n",
    "    return time_histogram(spiketrains, binsize, output='counts')"
   ]
  },
  {
   "cell_type": "code",
   "execution_count": null,
   "metadata": {},
   "outputs": [],
   "source": [
    "binsize_list = np.linspace(0.1, 1, num=8) * pq.s\n",
    "\n",
    "time_hist = ProcessPoolExecutor().execute(my_custom_function, binsize_list)"
   ]
  },
  {
   "cell_type": "markdown",
   "metadata": {},
   "source": [
    "`time_hist` contains 8 AnalogSignals - one AnalogSignal per `binsize` from `binsize_list`.\n",
    "\n",
    "### Benchmark\n",
    "\n",
    "Finally, let's see if `ProcessPoolExecutor` brings any speedup, compared to sequential processing, to Example 2."
   ]
  },
  {
   "cell_type": "code",
   "execution_count": null,
   "metadata": {},
   "outputs": [],
   "source": [
    "import warnings\n",
    "warnings.filterwarnings(\"ignore\")\n",
    "\n",
    "# initialize the iteration list\n",
    "binsize_list = np.linspace(0.1, 1, 100) * pq.s"
   ]
  },
  {
   "cell_type": "code",
   "execution_count": null,
   "metadata": {},
   "outputs": [],
   "source": [
    "# sequential processing\n",
    "%timeit [time_histogram(spiketrains, binsize) for binsize in binsize_list]"
   ]
  },
  {
   "cell_type": "code",
   "execution_count": null,
   "metadata": {},
   "outputs": [],
   "source": [
    "# with parallelization\n",
    "%timeit ProcessPoolExecutor(max_workers=4).execute(my_custom_function, binsize_list)"
   ]
  },
  {
   "cell_type": "markdown",
   "metadata": {},
   "source": [
    "## Old version. Will not be included\n",
    "\n",
    "Comment: we cannot set the random seed to generate the same 100 spiketrains. This might be confusing for those who don't understand how the processes are spawned in Python.\n",
    "\n",
    "Let's generate homogeneous Poisson process in a parallel manner.\n",
    "\n",
    "`homogeneous_poisson_process` function requires one mandatory argument - `rate` - and has several keywords with default values. We will call this function multiple times but with different input `rate`.\n"
   ]
  },
  {
   "cell_type": "code",
   "execution_count": null,
   "metadata": {},
   "outputs": [],
   "source": [
    "import numpy as np\n",
    "import quantities as pq\n",
    "\n",
    "from elephant.parallel import SingleProcess, MPIPoolExecutor, ProcessPoolExecutor, MPICommExecutor\n",
    "from elephant.spike_train_generation import homogeneous_poisson_process\n",
    "from elephant.statistics import mean_firing_rate\n"
   ]
  },
  {
   "cell_type": "markdown",
   "metadata": {},
   "source": [
    "Let's create 50 spiketrains with the firing rates in a range `[0.1, 10]` hertz in a time iterval of `[0, 10]` seconds."
   ]
  },
  {
   "cell_type": "code",
   "execution_count": null,
   "metadata": {},
   "outputs": [],
   "source": [
    "rates = np.linspace(0.1, 10, 50) * pq.Hz"
   ]
  },
  {
   "cell_type": "markdown",
   "metadata": {},
   "source": [
    "We start with a sanity check with a `SingleProcess` executor."
   ]
  },
  {
   "cell_type": "code",
   "execution_count": null,
   "metadata": {},
   "outputs": [],
   "source": [
    "spiketrains1 = SingleProcess().execute(homogeneous_poisson_process, rates,\n",
    "    t_start=0*pq.s, t_stop=10*pq.s, as_array=True)"
   ]
  },
  {
   "cell_type": "markdown",
   "metadata": {},
   "source": [
    "Then we just switch to `ProcessPoolExecutor`, `MPIPoolExecutor`, or `MPICommExecutor` without changing anything else."
   ]
  },
  {
   "cell_type": "code",
   "execution_count": null,
   "metadata": {},
   "outputs": [],
   "source": [
    "spiketrains2 = ProcessPoolExecutor().execute(homogeneous_poisson_process, rates,\n",
    "    t_start=0*pq.s, t_stop=10*pq.s, as_array=True)\n",
    "\n",
    "spiketrains3 = MPIPoolExecutor().execute(homogeneous_poisson_process, rates,\n",
    "    t_start=0*pq.s, t_stop=10*pq.s, as_array=True)\n",
    "\n",
    "spiketrains4 = MPICommExecutor().execute(homogeneous_poisson_process, rates,\n",
    "    t_start=0*pq.s, t_stop=10*pq.s, as_array=True)\n"
   ]
  },
  {
   "cell_type": "markdown",
   "metadata": {},
   "source": [
    "All these sets of spiketrains 1-4 are identical. Let's print the first 10 entries."
   ]
  },
  {
   "cell_type": "code",
   "execution_count": null,
   "metadata": {},
   "outputs": [],
   "source": [
    "spiketrains2[:10]"
   ]
  },
  {
   "cell_type": "code",
   "execution_count": null,
   "metadata": {},
   "outputs": [],
   "source": [
    "spiketrains3[:10]"
   ]
  },
  {
   "cell_type": "code",
   "execution_count": null,
   "metadata": {},
   "outputs": [],
   "source": [
    "spiketrains4"
   ]
  }
 ],
 "metadata": {
  "kernelspec": {
   "display_name": "Python 3",
   "language": "python",
   "name": "python3"
  },
  "language_info": {
   "codemirror_mode": {
    "name": "ipython",
    "version": 3
   },
   "file_extension": ".py",
   "mimetype": "text/x-python",
   "name": "python",
   "nbconvert_exporter": "python",
   "pygments_lexer": "ipython3",
   "version": "3.7.3"
  }
 },
 "nbformat": 4,
 "nbformat_minor": 4
}
